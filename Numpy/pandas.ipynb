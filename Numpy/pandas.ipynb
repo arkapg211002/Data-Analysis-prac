{
 "cells": [
  {
   "cell_type": "code",
   "execution_count": 1,
   "metadata": {},
   "outputs": [],
   "source": [
    "import pandas as pd"
   ]
  },
  {
   "cell_type": "code",
   "execution_count": 2,
   "metadata": {},
   "outputs": [],
   "source": [
    "import numpy as np"
   ]
  },
  {
   "cell_type": "code",
   "execution_count": 3,
   "metadata": {},
   "outputs": [
    {
     "name": "stdout",
     "output_type": "stream",
     "text": [
      "<class 'dict'>\n"
     ]
    }
   ],
   "source": [
    "dict1 = {'a': 1, 'b': 2, 'c': 3, 'd': 4, 'e': 5}\n",
    "print(dict)"
   ]
  },
  {
   "cell_type": "code",
   "execution_count": 4,
   "metadata": {},
   "outputs": [
    {
     "name": "stdout",
     "output_type": "stream",
     "text": [
      "{'a': 1, 'b': 2, 'c': 3, 'd': 4, 'e': 5}\n"
     ]
    }
   ],
   "source": [
    "print(dict1)"
   ]
  },
  {
   "cell_type": "code",
   "execution_count": 5,
   "metadata": {},
   "outputs": [],
   "source": [
    "dict1 ={\n",
    "    \"name\": ['harry', 'rohan', 'skillf', 'shubham'],\n",
    "    \"marks\": [92, 34, 24, 2],\n",
    "    \"city\": ['rampur', 'kolkata', 'delhi', 'bareilly']\n",
    "}"
   ]
  },
  {
   "cell_type": "code",
   "execution_count": 6,
   "metadata": {},
   "outputs": [
    {
     "name": "stdout",
     "output_type": "stream",
     "text": [
      "      name  marks      city\n",
      "0    harry     92    rampur\n",
      "1    rohan     34   kolkata\n",
      "2   skillf     24     delhi\n",
      "3  shubham      2  bareilly\n"
     ]
    }
   ],
   "source": [
    "df = pd.DataFrame(dict1)\n",
    "print(df)"
   ]
  },
  {
   "cell_type": "code",
   "execution_count": 7,
   "metadata": {},
   "outputs": [],
   "source": [
    "# What is Dataframe?\n",
    "# Dataframe is a 2D data structure, i.e., data is aligned in a tabular fashion in rows and columns."
   ]
  },
  {
   "cell_type": "code",
   "execution_count": 8,
   "metadata": {},
   "outputs": [],
   "source": [
    "df.to_csv('friends.csv')"
   ]
  },
  {
   "cell_type": "code",
   "execution_count": 9,
   "metadata": {},
   "outputs": [],
   "source": [
    "df.to_csv('friends_index_false.csv', index=False)"
   ]
  },
  {
   "cell_type": "code",
   "execution_count": 10,
   "metadata": {},
   "outputs": [],
   "source": [
    "df = pd.DataFrame(dict1, index=['rank1', 'rank2', 'rank3', 'rank4'])\n"
   ]
  },
  {
   "cell_type": "code",
   "execution_count": 11,
   "metadata": {},
   "outputs": [
    {
     "name": "stdout",
     "output_type": "stream",
     "text": [
      "          name  marks      city\n",
      "rank1    harry     92    rampur\n",
      "rank2    rohan     34   kolkata\n",
      "rank3   skillf     24     delhi\n",
      "rank4  shubham      2  bareilly\n"
     ]
    }
   ],
   "source": [
    "print(df)"
   ]
  },
  {
   "cell_type": "code",
   "execution_count": 12,
   "metadata": {},
   "outputs": [
    {
     "data": {
      "text/html": [
       "<div>\n",
       "<style scoped>\n",
       "    .dataframe tbody tr th:only-of-type {\n",
       "        vertical-align: middle;\n",
       "    }\n",
       "\n",
       "    .dataframe tbody tr th {\n",
       "        vertical-align: top;\n",
       "    }\n",
       "\n",
       "    .dataframe thead th {\n",
       "        text-align: right;\n",
       "    }\n",
       "</style>\n",
       "<table border=\"1\" class=\"dataframe\">\n",
       "  <thead>\n",
       "    <tr style=\"text-align: right;\">\n",
       "      <th></th>\n",
       "      <th>name</th>\n",
       "      <th>marks</th>\n",
       "      <th>city</th>\n",
       "    </tr>\n",
       "  </thead>\n",
       "  <tbody>\n",
       "    <tr>\n",
       "      <th>rank3</th>\n",
       "      <td>skillf</td>\n",
       "      <td>24</td>\n",
       "      <td>delhi</td>\n",
       "    </tr>\n",
       "    <tr>\n",
       "      <th>rank4</th>\n",
       "      <td>shubham</td>\n",
       "      <td>2</td>\n",
       "      <td>bareilly</td>\n",
       "    </tr>\n",
       "  </tbody>\n",
       "</table>\n",
       "</div>"
      ],
      "text/plain": [
       "          name  marks      city\n",
       "rank3   skillf     24     delhi\n",
       "rank4  shubham      2  bareilly"
      ]
     },
     "execution_count": 12,
     "metadata": {},
     "output_type": "execute_result"
    }
   ],
   "source": [
    "df.tail(2)"
   ]
  },
  {
   "cell_type": "code",
   "execution_count": 13,
   "metadata": {},
   "outputs": [
    {
     "data": {
      "text/plain": [
       "<bound method NDFrame.describe of           name  marks      city\n",
       "rank1    harry     92    rampur\n",
       "rank2    rohan     34   kolkata\n",
       "rank3   skillf     24     delhi\n",
       "rank4  shubham      2  bareilly>"
      ]
     },
     "execution_count": 13,
     "metadata": {},
     "output_type": "execute_result"
    }
   ],
   "source": [
    "df.describe"
   ]
  },
  {
   "cell_type": "code",
   "execution_count": 14,
   "metadata": {},
   "outputs": [
    {
     "data": {
      "text/html": [
       "<div>\n",
       "<style scoped>\n",
       "    .dataframe tbody tr th:only-of-type {\n",
       "        vertical-align: middle;\n",
       "    }\n",
       "\n",
       "    .dataframe tbody tr th {\n",
       "        vertical-align: top;\n",
       "    }\n",
       "\n",
       "    .dataframe thead th {\n",
       "        text-align: right;\n",
       "    }\n",
       "</style>\n",
       "<table border=\"1\" class=\"dataframe\">\n",
       "  <thead>\n",
       "    <tr style=\"text-align: right;\">\n",
       "      <th></th>\n",
       "      <th>marks</th>\n",
       "    </tr>\n",
       "  </thead>\n",
       "  <tbody>\n",
       "    <tr>\n",
       "      <th>count</th>\n",
       "      <td>4.000000</td>\n",
       "    </tr>\n",
       "    <tr>\n",
       "      <th>mean</th>\n",
       "      <td>38.000000</td>\n",
       "    </tr>\n",
       "    <tr>\n",
       "      <th>std</th>\n",
       "      <td>38.401389</td>\n",
       "    </tr>\n",
       "    <tr>\n",
       "      <th>min</th>\n",
       "      <td>2.000000</td>\n",
       "    </tr>\n",
       "    <tr>\n",
       "      <th>25%</th>\n",
       "      <td>18.500000</td>\n",
       "    </tr>\n",
       "    <tr>\n",
       "      <th>50%</th>\n",
       "      <td>29.000000</td>\n",
       "    </tr>\n",
       "    <tr>\n",
       "      <th>75%</th>\n",
       "      <td>48.500000</td>\n",
       "    </tr>\n",
       "    <tr>\n",
       "      <th>max</th>\n",
       "      <td>92.000000</td>\n",
       "    </tr>\n",
       "  </tbody>\n",
       "</table>\n",
       "</div>"
      ],
      "text/plain": [
       "           marks\n",
       "count   4.000000\n",
       "mean   38.000000\n",
       "std    38.401389\n",
       "min     2.000000\n",
       "25%    18.500000\n",
       "50%    29.000000\n",
       "75%    48.500000\n",
       "max    92.000000"
      ]
     },
     "execution_count": 14,
     "metadata": {},
     "output_type": "execute_result"
    }
   ],
   "source": [
    "df.describe()"
   ]
  },
  {
   "cell_type": "code",
   "execution_count": 15,
   "metadata": {},
   "outputs": [
    {
     "name": "stdout",
     "output_type": "stream",
     "text": [
      "   Unnamed: 0     name  marks      city\n",
      "0           0    harry     92    rampur\n",
      "1           1    rohan     34   kolkata\n",
      "2           2   skillf     24     delhi\n",
      "3           3  shubham      2  bareilly\n"
     ]
    }
   ],
   "source": [
    "df1 = pd.read_csv('friends.csv')\n",
    "print(df1)"
   ]
  },
  {
   "cell_type": "code",
   "execution_count": 16,
   "metadata": {},
   "outputs": [
    {
     "name": "stdout",
     "output_type": "stream",
     "text": [
      "          name  marks      city\n",
      "rank1    harry     92    rampur\n",
      "rank2    rohan     34   kolkata\n",
      "rank3   skillf     24     delhi\n",
      "rank4  shubham      2  bareilly\n"
     ]
    }
   ],
   "source": [
    "print(df)"
   ]
  },
  {
   "cell_type": "code",
   "execution_count": 17,
   "metadata": {},
   "outputs": [
    {
     "name": "stdout",
     "output_type": "stream",
     "text": [
      "      name  marks      city\n",
      "0    harry     92    rampur\n",
      "1    rohan     34   kolkata\n",
      "2   skillf     24     delhi\n",
      "3  shubham      2  bareilly\n"
     ]
    }
   ],
   "source": [
    "df = pd.read_csv('friends.csv', index_col=0)\n",
    "print(df)"
   ]
  },
  {
   "cell_type": "code",
   "execution_count": 18,
   "metadata": {},
   "outputs": [
    {
     "name": "stdout",
     "output_type": "stream",
     "text": [
      "      name  marks      city\n",
      "0    harry     92    rampur\n",
      "1    rohan     34   kolkata\n",
      "2   skillf     24     delhi\n",
      "3  shubham      2  bareilly\n"
     ]
    }
   ],
   "source": [
    "df1 = pd.read_csv('friends.csv', index_col=0)\n",
    "print(df1)"
   ]
  },
  {
   "cell_type": "code",
   "execution_count": 19,
   "metadata": {},
   "outputs": [
    {
     "name": "stdout",
     "output_type": "stream",
     "text": [
      "          name  marks      city\n",
      "rank1    harry     92    rampur\n",
      "rank2    rohan     34   kolkata\n",
      "rank3   skillf     24     delhi\n",
      "rank4  shubham      2  bareilly\n"
     ]
    }
   ],
   "source": [
    "df1.index = ['rank1', 'rank2', 'rank3', 'rank4']\n",
    "print(df1)\n",
    "\n",
    "\n"
   ]
  },
  {
   "cell_type": "code",
   "execution_count": 20,
   "metadata": {},
   "outputs": [],
   "source": [
    "df1.to_csv('friends2.csv')"
   ]
  },
  {
   "cell_type": "code",
   "execution_count": 21,
   "metadata": {},
   "outputs": [],
   "source": [
    "df1.to_csv('friends2.csv', header=False)\n"
   ]
  },
  {
   "cell_type": "code",
   "execution_count": 22,
   "metadata": {},
   "outputs": [],
   "source": [
    "# what is series?\n",
    "# series is a one dimensional data structure\n",
    "# series is like a column in excel sheet\n",
    "# series is like a list\n",
    "# series is like a numpy array\n",
    "# series is like a dictionary\n"
   ]
  },
  {
   "cell_type": "code",
   "execution_count": 23,
   "metadata": {},
   "outputs": [
    {
     "name": "stdout",
     "output_type": "stream",
     "text": [
      "            0         1         2         3         4\n",
      "0    0.882107  0.848544  0.958626  0.819972  0.427472\n",
      "1    0.017274  0.590288  0.072651  0.993683  0.028392\n",
      "2    0.412607  0.323754  0.421337  0.028992  0.389585\n",
      "3    0.305912  0.965911  0.963764  0.200196  0.072753\n",
      "4    0.001931  0.858054  0.771728  0.131540  0.624276\n",
      "..        ...       ...       ...       ...       ...\n",
      "329  0.048996  0.227047  0.687367  0.432724  0.598392\n",
      "330  0.143309  0.429568  0.574996  0.388265  0.895321\n",
      "331  0.525714  0.835025  0.118896  0.002920  0.207926\n",
      "332  0.117979  0.600599  0.389956  0.480487  0.808186\n",
      "333  0.409260  0.820175  0.159087  0.347459  0.420806\n",
      "\n",
      "[334 rows x 5 columns]\n"
     ]
    }
   ],
   "source": [
    "newdf = pd.DataFrame(np.random.rand(334, 5), index=np.arange(334))\n",
    "print(newdf)"
   ]
  },
  {
   "cell_type": "code",
   "execution_count": 24,
   "metadata": {},
   "outputs": [
    {
     "name": "stdout",
     "output_type": "stream",
     "text": [
      "0     0.058100\n",
      "1     0.222896\n",
      "2     0.724720\n",
      "3     0.867176\n",
      "4     0.548300\n",
      "5     0.514871\n",
      "6     0.428644\n",
      "7     0.071386\n",
      "8     0.646023\n",
      "9     0.077374\n",
      "10    0.991983\n",
      "11    0.986647\n",
      "12    0.289626\n",
      "13    0.424555\n",
      "14    0.775842\n",
      "15    0.947242\n",
      "16    0.086711\n",
      "17    0.757847\n",
      "18    0.042232\n",
      "19    0.855258\n",
      "20    0.029517\n",
      "21    0.914495\n",
      "22    0.824082\n",
      "23    0.100659\n",
      "24    0.678025\n",
      "25    0.299757\n",
      "26    0.833370\n",
      "27    0.513003\n",
      "28    0.172046\n",
      "29    0.465218\n",
      "30    0.304844\n",
      "31    0.860527\n",
      "32    0.696915\n",
      "33    0.982006\n",
      "dtype: float64\n"
     ]
    }
   ],
   "source": [
    "ser = pd.Series(np.random.rand(34))\n",
    "print(ser)"
   ]
  },
  {
   "cell_type": "code",
   "execution_count": 26,
   "metadata": {},
   "outputs": [],
   "source": [
    "# numpy.random.rand(d0, d1, …, dn)\n",
    "# Random values in a given shape.\n",
    "# Create an array of the given shape and populate it with random samples from a uniform distribution over [0, 1).\n",
    "\n",
    "# numpy.arange([start, ]stop, [step, ]dtype=None)\n",
    "# Return evenly spaced values within a given interval.\n",
    "\n",
    "# numpy.random.rand(n1,n2)\n",
    "# Return random floats in the half-open interval [0.0, 1.0). Results are from the “continuous uniform” distribution over the stated interval. To sample Unif[a, b), b > a multiply the output of random_sample by (b-a) and add a:"
   ]
  },
  {
   "cell_type": "code",
   "execution_count": 27,
   "metadata": {},
   "outputs": [
    {
     "data": {
      "text/plain": [
       "0    float64\n",
       "1    float64\n",
       "2    float64\n",
       "3    float64\n",
       "4    float64\n",
       "dtype: object"
      ]
     },
     "execution_count": 27,
     "metadata": {},
     "output_type": "execute_result"
    }
   ],
   "source": [
    "newdf.dtypes"
   ]
  },
  {
   "cell_type": "code",
   "execution_count": 28,
   "metadata": {},
   "outputs": [
    {
     "data": {
      "text/html": [
       "<div>\n",
       "<style scoped>\n",
       "    .dataframe tbody tr th:only-of-type {\n",
       "        vertical-align: middle;\n",
       "    }\n",
       "\n",
       "    .dataframe tbody tr th {\n",
       "        vertical-align: top;\n",
       "    }\n",
       "\n",
       "    .dataframe thead th {\n",
       "        text-align: right;\n",
       "    }\n",
       "</style>\n",
       "<table border=\"1\" class=\"dataframe\">\n",
       "  <thead>\n",
       "    <tr style=\"text-align: right;\">\n",
       "      <th></th>\n",
       "      <th>0</th>\n",
       "      <th>1</th>\n",
       "      <th>2</th>\n",
       "      <th>3</th>\n",
       "      <th>4</th>\n",
       "    </tr>\n",
       "  </thead>\n",
       "  <tbody>\n",
       "    <tr>\n",
       "      <th>0</th>\n",
       "      <td>0.882107</td>\n",
       "      <td>0.848544</td>\n",
       "      <td>0.958626</td>\n",
       "      <td>0.819972</td>\n",
       "      <td>0.427472</td>\n",
       "    </tr>\n",
       "    <tr>\n",
       "      <th>1</th>\n",
       "      <td>0.017274</td>\n",
       "      <td>0.590288</td>\n",
       "      <td>0.072651</td>\n",
       "      <td>0.993683</td>\n",
       "      <td>0.028392</td>\n",
       "    </tr>\n",
       "    <tr>\n",
       "      <th>2</th>\n",
       "      <td>0.412607</td>\n",
       "      <td>0.323754</td>\n",
       "      <td>0.421337</td>\n",
       "      <td>0.028992</td>\n",
       "      <td>0.389585</td>\n",
       "    </tr>\n",
       "  </tbody>\n",
       "</table>\n",
       "</div>"
      ],
      "text/plain": [
       "          0         1         2         3         4\n",
       "0  0.882107  0.848544  0.958626  0.819972  0.427472\n",
       "1  0.017274  0.590288  0.072651  0.993683  0.028392\n",
       "2  0.412607  0.323754  0.421337  0.028992  0.389585"
      ]
     },
     "execution_count": 28,
     "metadata": {},
     "output_type": "execute_result"
    }
   ],
   "source": [
    "newdf.head(3)"
   ]
  },
  {
   "cell_type": "code",
   "execution_count": 29,
   "metadata": {},
   "outputs": [
    {
     "data": {
      "text/plain": [
       "Int64Index([  0,   1,   2,   3,   4,   5,   6,   7,   8,   9,\n",
       "            ...\n",
       "            324, 325, 326, 327, 328, 329, 330, 331, 332, 333],\n",
       "           dtype='int64', length=334)"
      ]
     },
     "execution_count": 29,
     "metadata": {},
     "output_type": "execute_result"
    }
   ],
   "source": [
    "newdf.index"
   ]
  },
  {
   "cell_type": "code",
   "execution_count": 30,
   "metadata": {},
   "outputs": [
    {
     "data": {
      "text/plain": [
       "RangeIndex(start=0, stop=5, step=1)"
      ]
     },
     "execution_count": 30,
     "metadata": {},
     "output_type": "execute_result"
    }
   ],
   "source": [
    "newdf.columns"
   ]
  },
  {
   "cell_type": "code",
   "execution_count": 31,
   "metadata": {},
   "outputs": [],
   "source": [
    "newdf.to_clipboard()"
   ]
  },
  {
   "cell_type": "code",
   "execution_count": 32,
   "metadata": {},
   "outputs": [
    {
     "ename": "TypeError",
     "evalue": "'numpy.ndarray' object is not callable",
     "output_type": "error",
     "traceback": [
      "\u001b[1;31m---------------------------------------------------------------------------\u001b[0m",
      "\u001b[1;31mTypeError\u001b[0m                                 Traceback (most recent call last)",
      "\u001b[1;32md:\\Data Analytics\\Numpy\\pandas.ipynb Cell 31\u001b[0m in \u001b[0;36m<cell line: 1>\u001b[1;34m()\u001b[0m\n\u001b[1;32m----> <a href='vscode-notebook-cell:/d%3A/Data%20Analytics/Numpy/pandas.ipynb#X42sZmlsZQ%3D%3D?line=0'>1</a>\u001b[0m newdf\u001b[39m.\u001b[39;49mvalues()\n",
      "\u001b[1;31mTypeError\u001b[0m: 'numpy.ndarray' object is not callable"
     ]
    }
   ],
   "source": [
    "newdf.values()"
   ]
  },
  {
   "cell_type": "code",
   "execution_count": 33,
   "metadata": {},
   "outputs": [
    {
     "name": "stdout",
     "output_type": "stream",
     "text": [
      "            A         B         C         D         E\n",
      "0    0.674788  0.752651  0.728407  0.466735  0.184277\n",
      "1    0.094863  0.807772  0.800722  0.592486  0.058475\n",
      "2    0.576746  0.664259  0.625490  0.606980  0.551165\n",
      "3    0.648575  0.126615  0.785787  0.856361  0.446862\n",
      "4    0.677665  0.707367  0.576106  0.757430  0.101934\n",
      "..        ...       ...       ...       ...       ...\n",
      "329  0.184897  0.939725  0.539705  0.019784  0.524587\n",
      "330  0.982734  0.859804  0.767068  0.512855  0.602677\n",
      "331  0.421230  0.773069  0.067055  0.328559  0.524235\n",
      "332  0.800100  0.388618  0.204683  0.263769  0.792540\n",
      "333  0.941215  0.847235  0.683526  0.778754  0.274978\n",
      "\n",
      "[334 rows x 5 columns]\n"
     ]
    }
   ],
   "source": [
    "newdf = pd.DataFrame(np.random.rand(334, 5), index=np.arange(334), columns=list('ABCDE'))\n",
    "print(newdf)\n"
   ]
  },
  {
   "cell_type": "code",
   "execution_count": 34,
   "metadata": {},
   "outputs": [
    {
     "data": {
      "text/plain": [
       "array([[0.67478798, 0.75265146, 0.72840684, 0.46673523, 0.18427737],\n",
       "       [0.09486338, 0.80777195, 0.80072176, 0.59248573, 0.05847542],\n",
       "       [0.57674581, 0.66425873, 0.62548997, 0.60697955, 0.55116536],\n",
       "       ...,\n",
       "       [0.42122953, 0.77306916, 0.06705489, 0.32855915, 0.52423481],\n",
       "       [0.80010036, 0.38861811, 0.204683  , 0.26376947, 0.79254002],\n",
       "       [0.94121532, 0.84723509, 0.68352583, 0.778754  , 0.27497797]])"
      ]
     },
     "execution_count": 34,
     "metadata": {},
     "output_type": "execute_result"
    }
   ],
   "source": [
    "newdf.to_numpy()"
   ]
  },
  {
   "cell_type": "code",
   "execution_count": 35,
   "metadata": {},
   "outputs": [
    {
     "data": {
      "text/html": [
       "<div>\n",
       "<style scoped>\n",
       "    .dataframe tbody tr th:only-of-type {\n",
       "        vertical-align: middle;\n",
       "    }\n",
       "\n",
       "    .dataframe tbody tr th {\n",
       "        vertical-align: top;\n",
       "    }\n",
       "\n",
       "    .dataframe thead th {\n",
       "        text-align: right;\n",
       "    }\n",
       "</style>\n",
       "<table border=\"1\" class=\"dataframe\">\n",
       "  <thead>\n",
       "    <tr style=\"text-align: right;\">\n",
       "      <th></th>\n",
       "      <th>0</th>\n",
       "      <th>1</th>\n",
       "      <th>2</th>\n",
       "      <th>3</th>\n",
       "      <th>4</th>\n",
       "      <th>5</th>\n",
       "      <th>6</th>\n",
       "      <th>7</th>\n",
       "      <th>8</th>\n",
       "      <th>9</th>\n",
       "      <th>...</th>\n",
       "      <th>324</th>\n",
       "      <th>325</th>\n",
       "      <th>326</th>\n",
       "      <th>327</th>\n",
       "      <th>328</th>\n",
       "      <th>329</th>\n",
       "      <th>330</th>\n",
       "      <th>331</th>\n",
       "      <th>332</th>\n",
       "      <th>333</th>\n",
       "    </tr>\n",
       "  </thead>\n",
       "  <tbody>\n",
       "    <tr>\n",
       "      <th>A</th>\n",
       "      <td>0.674788</td>\n",
       "      <td>0.094863</td>\n",
       "      <td>0.576746</td>\n",
       "      <td>0.648575</td>\n",
       "      <td>0.677665</td>\n",
       "      <td>0.207432</td>\n",
       "      <td>0.629297</td>\n",
       "      <td>0.074518</td>\n",
       "      <td>0.499907</td>\n",
       "      <td>0.753535</td>\n",
       "      <td>...</td>\n",
       "      <td>0.184100</td>\n",
       "      <td>0.331562</td>\n",
       "      <td>0.149351</td>\n",
       "      <td>0.318967</td>\n",
       "      <td>0.707377</td>\n",
       "      <td>0.184897</td>\n",
       "      <td>0.982734</td>\n",
       "      <td>0.421230</td>\n",
       "      <td>0.800100</td>\n",
       "      <td>0.941215</td>\n",
       "    </tr>\n",
       "    <tr>\n",
       "      <th>B</th>\n",
       "      <td>0.752651</td>\n",
       "      <td>0.807772</td>\n",
       "      <td>0.664259</td>\n",
       "      <td>0.126615</td>\n",
       "      <td>0.707367</td>\n",
       "      <td>0.704507</td>\n",
       "      <td>0.293907</td>\n",
       "      <td>0.795958</td>\n",
       "      <td>0.484748</td>\n",
       "      <td>0.170171</td>\n",
       "      <td>...</td>\n",
       "      <td>0.053366</td>\n",
       "      <td>0.458632</td>\n",
       "      <td>0.580526</td>\n",
       "      <td>0.750709</td>\n",
       "      <td>0.864137</td>\n",
       "      <td>0.939725</td>\n",
       "      <td>0.859804</td>\n",
       "      <td>0.773069</td>\n",
       "      <td>0.388618</td>\n",
       "      <td>0.847235</td>\n",
       "    </tr>\n",
       "    <tr>\n",
       "      <th>C</th>\n",
       "      <td>0.728407</td>\n",
       "      <td>0.800722</td>\n",
       "      <td>0.625490</td>\n",
       "      <td>0.785787</td>\n",
       "      <td>0.576106</td>\n",
       "      <td>0.743309</td>\n",
       "      <td>0.423103</td>\n",
       "      <td>0.000808</td>\n",
       "      <td>0.569467</td>\n",
       "      <td>0.752866</td>\n",
       "      <td>...</td>\n",
       "      <td>0.529656</td>\n",
       "      <td>0.125938</td>\n",
       "      <td>0.811582</td>\n",
       "      <td>0.668204</td>\n",
       "      <td>0.774321</td>\n",
       "      <td>0.539705</td>\n",
       "      <td>0.767068</td>\n",
       "      <td>0.067055</td>\n",
       "      <td>0.204683</td>\n",
       "      <td>0.683526</td>\n",
       "    </tr>\n",
       "    <tr>\n",
       "      <th>D</th>\n",
       "      <td>0.466735</td>\n",
       "      <td>0.592486</td>\n",
       "      <td>0.606980</td>\n",
       "      <td>0.856361</td>\n",
       "      <td>0.757430</td>\n",
       "      <td>0.635683</td>\n",
       "      <td>0.811436</td>\n",
       "      <td>0.718193</td>\n",
       "      <td>0.598399</td>\n",
       "      <td>0.531089</td>\n",
       "      <td>...</td>\n",
       "      <td>0.733442</td>\n",
       "      <td>0.840168</td>\n",
       "      <td>0.629049</td>\n",
       "      <td>0.670668</td>\n",
       "      <td>0.934090</td>\n",
       "      <td>0.019784</td>\n",
       "      <td>0.512855</td>\n",
       "      <td>0.328559</td>\n",
       "      <td>0.263769</td>\n",
       "      <td>0.778754</td>\n",
       "    </tr>\n",
       "    <tr>\n",
       "      <th>E</th>\n",
       "      <td>0.184277</td>\n",
       "      <td>0.058475</td>\n",
       "      <td>0.551165</td>\n",
       "      <td>0.446862</td>\n",
       "      <td>0.101934</td>\n",
       "      <td>0.716163</td>\n",
       "      <td>0.872882</td>\n",
       "      <td>0.318352</td>\n",
       "      <td>0.690685</td>\n",
       "      <td>0.388162</td>\n",
       "      <td>...</td>\n",
       "      <td>0.769020</td>\n",
       "      <td>0.816752</td>\n",
       "      <td>0.828365</td>\n",
       "      <td>0.377212</td>\n",
       "      <td>0.709698</td>\n",
       "      <td>0.524587</td>\n",
       "      <td>0.602677</td>\n",
       "      <td>0.524235</td>\n",
       "      <td>0.792540</td>\n",
       "      <td>0.274978</td>\n",
       "    </tr>\n",
       "  </tbody>\n",
       "</table>\n",
       "<p>5 rows × 334 columns</p>\n",
       "</div>"
      ],
      "text/plain": [
       "        0         1         2         3         4         5         6    \\\n",
       "A  0.674788  0.094863  0.576746  0.648575  0.677665  0.207432  0.629297   \n",
       "B  0.752651  0.807772  0.664259  0.126615  0.707367  0.704507  0.293907   \n",
       "C  0.728407  0.800722  0.625490  0.785787  0.576106  0.743309  0.423103   \n",
       "D  0.466735  0.592486  0.606980  0.856361  0.757430  0.635683  0.811436   \n",
       "E  0.184277  0.058475  0.551165  0.446862  0.101934  0.716163  0.872882   \n",
       "\n",
       "        7         8         9    ...       324       325       326       327  \\\n",
       "A  0.074518  0.499907  0.753535  ...  0.184100  0.331562  0.149351  0.318967   \n",
       "B  0.795958  0.484748  0.170171  ...  0.053366  0.458632  0.580526  0.750709   \n",
       "C  0.000808  0.569467  0.752866  ...  0.529656  0.125938  0.811582  0.668204   \n",
       "D  0.718193  0.598399  0.531089  ...  0.733442  0.840168  0.629049  0.670668   \n",
       "E  0.318352  0.690685  0.388162  ...  0.769020  0.816752  0.828365  0.377212   \n",
       "\n",
       "        328       329       330       331       332       333  \n",
       "A  0.707377  0.184897  0.982734  0.421230  0.800100  0.941215  \n",
       "B  0.864137  0.939725  0.859804  0.773069  0.388618  0.847235  \n",
       "C  0.774321  0.539705  0.767068  0.067055  0.204683  0.683526  \n",
       "D  0.934090  0.019784  0.512855  0.328559  0.263769  0.778754  \n",
       "E  0.709698  0.524587  0.602677  0.524235  0.792540  0.274978  \n",
       "\n",
       "[5 rows x 334 columns]"
      ]
     },
     "execution_count": 35,
     "metadata": {},
     "output_type": "execute_result"
    }
   ],
   "source": [
    "newdf.T"
   ]
  },
  {
   "cell_type": "code",
   "execution_count": 36,
   "metadata": {},
   "outputs": [
    {
     "data": {
      "text/plain": [
       "<bound method DataFrame.sort_index of             A         B         C         D         E\n",
       "0    0.674788  0.752651  0.728407  0.466735  0.184277\n",
       "1    0.094863  0.807772  0.800722  0.592486  0.058475\n",
       "2    0.576746  0.664259  0.625490  0.606980  0.551165\n",
       "3    0.648575  0.126615  0.785787  0.856361  0.446862\n",
       "4    0.677665  0.707367  0.576106  0.757430  0.101934\n",
       "..        ...       ...       ...       ...       ...\n",
       "329  0.184897  0.939725  0.539705  0.019784  0.524587\n",
       "330  0.982734  0.859804  0.767068  0.512855  0.602677\n",
       "331  0.421230  0.773069  0.067055  0.328559  0.524235\n",
       "332  0.800100  0.388618  0.204683  0.263769  0.792540\n",
       "333  0.941215  0.847235  0.683526  0.778754  0.274978\n",
       "\n",
       "[334 rows x 5 columns]>"
      ]
     },
     "execution_count": 36,
     "metadata": {},
     "output_type": "execute_result"
    }
   ],
   "source": [
    "newdf.sort_index"
   ]
  },
  {
   "cell_type": "code",
   "execution_count": 37,
   "metadata": {},
   "outputs": [
    {
     "data": {
      "text/html": [
       "<div>\n",
       "<style scoped>\n",
       "    .dataframe tbody tr th:only-of-type {\n",
       "        vertical-align: middle;\n",
       "    }\n",
       "\n",
       "    .dataframe tbody tr th {\n",
       "        vertical-align: top;\n",
       "    }\n",
       "\n",
       "    .dataframe thead th {\n",
       "        text-align: right;\n",
       "    }\n",
       "</style>\n",
       "<table border=\"1\" class=\"dataframe\">\n",
       "  <thead>\n",
       "    <tr style=\"text-align: right;\">\n",
       "      <th></th>\n",
       "      <th>E</th>\n",
       "      <th>D</th>\n",
       "      <th>C</th>\n",
       "      <th>B</th>\n",
       "      <th>A</th>\n",
       "    </tr>\n",
       "  </thead>\n",
       "  <tbody>\n",
       "    <tr>\n",
       "      <th>0</th>\n",
       "      <td>0.184277</td>\n",
       "      <td>0.466735</td>\n",
       "      <td>0.728407</td>\n",
       "      <td>0.752651</td>\n",
       "      <td>0.674788</td>\n",
       "    </tr>\n",
       "    <tr>\n",
       "      <th>1</th>\n",
       "      <td>0.058475</td>\n",
       "      <td>0.592486</td>\n",
       "      <td>0.800722</td>\n",
       "      <td>0.807772</td>\n",
       "      <td>0.094863</td>\n",
       "    </tr>\n",
       "    <tr>\n",
       "      <th>2</th>\n",
       "      <td>0.551165</td>\n",
       "      <td>0.606980</td>\n",
       "      <td>0.625490</td>\n",
       "      <td>0.664259</td>\n",
       "      <td>0.576746</td>\n",
       "    </tr>\n",
       "    <tr>\n",
       "      <th>3</th>\n",
       "      <td>0.446862</td>\n",
       "      <td>0.856361</td>\n",
       "      <td>0.785787</td>\n",
       "      <td>0.126615</td>\n",
       "      <td>0.648575</td>\n",
       "    </tr>\n",
       "    <tr>\n",
       "      <th>4</th>\n",
       "      <td>0.101934</td>\n",
       "      <td>0.757430</td>\n",
       "      <td>0.576106</td>\n",
       "      <td>0.707367</td>\n",
       "      <td>0.677665</td>\n",
       "    </tr>\n",
       "    <tr>\n",
       "      <th>...</th>\n",
       "      <td>...</td>\n",
       "      <td>...</td>\n",
       "      <td>...</td>\n",
       "      <td>...</td>\n",
       "      <td>...</td>\n",
       "    </tr>\n",
       "    <tr>\n",
       "      <th>329</th>\n",
       "      <td>0.524587</td>\n",
       "      <td>0.019784</td>\n",
       "      <td>0.539705</td>\n",
       "      <td>0.939725</td>\n",
       "      <td>0.184897</td>\n",
       "    </tr>\n",
       "    <tr>\n",
       "      <th>330</th>\n",
       "      <td>0.602677</td>\n",
       "      <td>0.512855</td>\n",
       "      <td>0.767068</td>\n",
       "      <td>0.859804</td>\n",
       "      <td>0.982734</td>\n",
       "    </tr>\n",
       "    <tr>\n",
       "      <th>331</th>\n",
       "      <td>0.524235</td>\n",
       "      <td>0.328559</td>\n",
       "      <td>0.067055</td>\n",
       "      <td>0.773069</td>\n",
       "      <td>0.421230</td>\n",
       "    </tr>\n",
       "    <tr>\n",
       "      <th>332</th>\n",
       "      <td>0.792540</td>\n",
       "      <td>0.263769</td>\n",
       "      <td>0.204683</td>\n",
       "      <td>0.388618</td>\n",
       "      <td>0.800100</td>\n",
       "    </tr>\n",
       "    <tr>\n",
       "      <th>333</th>\n",
       "      <td>0.274978</td>\n",
       "      <td>0.778754</td>\n",
       "      <td>0.683526</td>\n",
       "      <td>0.847235</td>\n",
       "      <td>0.941215</td>\n",
       "    </tr>\n",
       "  </tbody>\n",
       "</table>\n",
       "<p>334 rows × 5 columns</p>\n",
       "</div>"
      ],
      "text/plain": [
       "            E         D         C         B         A\n",
       "0    0.184277  0.466735  0.728407  0.752651  0.674788\n",
       "1    0.058475  0.592486  0.800722  0.807772  0.094863\n",
       "2    0.551165  0.606980  0.625490  0.664259  0.576746\n",
       "3    0.446862  0.856361  0.785787  0.126615  0.648575\n",
       "4    0.101934  0.757430  0.576106  0.707367  0.677665\n",
       "..        ...       ...       ...       ...       ...\n",
       "329  0.524587  0.019784  0.539705  0.939725  0.184897\n",
       "330  0.602677  0.512855  0.767068  0.859804  0.982734\n",
       "331  0.524235  0.328559  0.067055  0.773069  0.421230\n",
       "332  0.792540  0.263769  0.204683  0.388618  0.800100\n",
       "333  0.274978  0.778754  0.683526  0.847235  0.941215\n",
       "\n",
       "[334 rows x 5 columns]"
      ]
     },
     "execution_count": 37,
     "metadata": {},
     "output_type": "execute_result"
    }
   ],
   "source": [
    "newdf.sort_index(axis=1, ascending=False)"
   ]
  },
  {
   "cell_type": "code",
   "execution_count": 38,
   "metadata": {},
   "outputs": [
    {
     "data": {
      "text/html": [
       "<div>\n",
       "<style scoped>\n",
       "    .dataframe tbody tr th:only-of-type {\n",
       "        vertical-align: middle;\n",
       "    }\n",
       "\n",
       "    .dataframe tbody tr th {\n",
       "        vertical-align: top;\n",
       "    }\n",
       "\n",
       "    .dataframe thead th {\n",
       "        text-align: right;\n",
       "    }\n",
       "</style>\n",
       "<table border=\"1\" class=\"dataframe\">\n",
       "  <thead>\n",
       "    <tr style=\"text-align: right;\">\n",
       "      <th></th>\n",
       "      <th>A</th>\n",
       "      <th>B</th>\n",
       "      <th>C</th>\n",
       "      <th>D</th>\n",
       "      <th>E</th>\n",
       "    </tr>\n",
       "  </thead>\n",
       "  <tbody>\n",
       "    <tr>\n",
       "      <th>333</th>\n",
       "      <td>0.941215</td>\n",
       "      <td>0.847235</td>\n",
       "      <td>0.683526</td>\n",
       "      <td>0.778754</td>\n",
       "      <td>0.274978</td>\n",
       "    </tr>\n",
       "    <tr>\n",
       "      <th>332</th>\n",
       "      <td>0.800100</td>\n",
       "      <td>0.388618</td>\n",
       "      <td>0.204683</td>\n",
       "      <td>0.263769</td>\n",
       "      <td>0.792540</td>\n",
       "    </tr>\n",
       "    <tr>\n",
       "      <th>331</th>\n",
       "      <td>0.421230</td>\n",
       "      <td>0.773069</td>\n",
       "      <td>0.067055</td>\n",
       "      <td>0.328559</td>\n",
       "      <td>0.524235</td>\n",
       "    </tr>\n",
       "    <tr>\n",
       "      <th>330</th>\n",
       "      <td>0.982734</td>\n",
       "      <td>0.859804</td>\n",
       "      <td>0.767068</td>\n",
       "      <td>0.512855</td>\n",
       "      <td>0.602677</td>\n",
       "    </tr>\n",
       "    <tr>\n",
       "      <th>329</th>\n",
       "      <td>0.184897</td>\n",
       "      <td>0.939725</td>\n",
       "      <td>0.539705</td>\n",
       "      <td>0.019784</td>\n",
       "      <td>0.524587</td>\n",
       "    </tr>\n",
       "    <tr>\n",
       "      <th>...</th>\n",
       "      <td>...</td>\n",
       "      <td>...</td>\n",
       "      <td>...</td>\n",
       "      <td>...</td>\n",
       "      <td>...</td>\n",
       "    </tr>\n",
       "    <tr>\n",
       "      <th>4</th>\n",
       "      <td>0.677665</td>\n",
       "      <td>0.707367</td>\n",
       "      <td>0.576106</td>\n",
       "      <td>0.757430</td>\n",
       "      <td>0.101934</td>\n",
       "    </tr>\n",
       "    <tr>\n",
       "      <th>3</th>\n",
       "      <td>0.648575</td>\n",
       "      <td>0.126615</td>\n",
       "      <td>0.785787</td>\n",
       "      <td>0.856361</td>\n",
       "      <td>0.446862</td>\n",
       "    </tr>\n",
       "    <tr>\n",
       "      <th>2</th>\n",
       "      <td>0.576746</td>\n",
       "      <td>0.664259</td>\n",
       "      <td>0.625490</td>\n",
       "      <td>0.606980</td>\n",
       "      <td>0.551165</td>\n",
       "    </tr>\n",
       "    <tr>\n",
       "      <th>1</th>\n",
       "      <td>0.094863</td>\n",
       "      <td>0.807772</td>\n",
       "      <td>0.800722</td>\n",
       "      <td>0.592486</td>\n",
       "      <td>0.058475</td>\n",
       "    </tr>\n",
       "    <tr>\n",
       "      <th>0</th>\n",
       "      <td>0.674788</td>\n",
       "      <td>0.752651</td>\n",
       "      <td>0.728407</td>\n",
       "      <td>0.466735</td>\n",
       "      <td>0.184277</td>\n",
       "    </tr>\n",
       "  </tbody>\n",
       "</table>\n",
       "<p>334 rows × 5 columns</p>\n",
       "</div>"
      ],
      "text/plain": [
       "            A         B         C         D         E\n",
       "333  0.941215  0.847235  0.683526  0.778754  0.274978\n",
       "332  0.800100  0.388618  0.204683  0.263769  0.792540\n",
       "331  0.421230  0.773069  0.067055  0.328559  0.524235\n",
       "330  0.982734  0.859804  0.767068  0.512855  0.602677\n",
       "329  0.184897  0.939725  0.539705  0.019784  0.524587\n",
       "..        ...       ...       ...       ...       ...\n",
       "4    0.677665  0.707367  0.576106  0.757430  0.101934\n",
       "3    0.648575  0.126615  0.785787  0.856361  0.446862\n",
       "2    0.576746  0.664259  0.625490  0.606980  0.551165\n",
       "1    0.094863  0.807772  0.800722  0.592486  0.058475\n",
       "0    0.674788  0.752651  0.728407  0.466735  0.184277\n",
       "\n",
       "[334 rows x 5 columns]"
      ]
     },
     "execution_count": 38,
     "metadata": {},
     "output_type": "execute_result"
    }
   ],
   "source": [
    "newdf.sort_index(axis=0, ascending=False)"
   ]
  },
  {
   "cell_type": "code",
   "execution_count": 39,
   "metadata": {},
   "outputs": [
    {
     "ename": "KeyError",
     "evalue": "0",
     "output_type": "error",
     "traceback": [
      "\u001b[1;31m---------------------------------------------------------------------------\u001b[0m",
      "\u001b[1;31mKeyError\u001b[0m                                  Traceback (most recent call last)",
      "File \u001b[1;32mc:\\Users\\LENOVO\\AppData\\Local\\Programs\\Python\\Python39\\lib\\site-packages\\pandas\\core\\indexes\\base.py:3621\u001b[0m, in \u001b[0;36mIndex.get_loc\u001b[1;34m(self, key, method, tolerance)\u001b[0m\n\u001b[0;32m   3620\u001b[0m \u001b[39mtry\u001b[39;00m:\n\u001b[1;32m-> 3621\u001b[0m     \u001b[39mreturn\u001b[39;00m \u001b[39mself\u001b[39;49m\u001b[39m.\u001b[39;49m_engine\u001b[39m.\u001b[39;49mget_loc(casted_key)\n\u001b[0;32m   3622\u001b[0m \u001b[39mexcept\u001b[39;00m \u001b[39mKeyError\u001b[39;00m \u001b[39mas\u001b[39;00m err:\n",
      "File \u001b[1;32mc:\\Users\\LENOVO\\AppData\\Local\\Programs\\Python\\Python39\\lib\\site-packages\\pandas\\_libs\\index.pyx:136\u001b[0m, in \u001b[0;36mpandas._libs.index.IndexEngine.get_loc\u001b[1;34m()\u001b[0m\n",
      "File \u001b[1;32mc:\\Users\\LENOVO\\AppData\\Local\\Programs\\Python\\Python39\\lib\\site-packages\\pandas\\_libs\\index.pyx:163\u001b[0m, in \u001b[0;36mpandas._libs.index.IndexEngine.get_loc\u001b[1;34m()\u001b[0m\n",
      "File \u001b[1;32mpandas\\_libs\\hashtable_class_helper.pxi:5198\u001b[0m, in \u001b[0;36mpandas._libs.hashtable.PyObjectHashTable.get_item\u001b[1;34m()\u001b[0m\n",
      "File \u001b[1;32mpandas\\_libs\\hashtable_class_helper.pxi:5206\u001b[0m, in \u001b[0;36mpandas._libs.hashtable.PyObjectHashTable.get_item\u001b[1;34m()\u001b[0m\n",
      "\u001b[1;31mKeyError\u001b[0m: 0",
      "\nThe above exception was the direct cause of the following exception:\n",
      "\u001b[1;31mKeyError\u001b[0m                                  Traceback (most recent call last)",
      "\u001b[1;32md:\\Data Analytics\\Numpy\\pandas.ipynb Cell 38\u001b[0m in \u001b[0;36m<cell line: 1>\u001b[1;34m()\u001b[0m\n\u001b[1;32m----> <a href='vscode-notebook-cell:/d%3A/Data%20Analytics/Numpy/pandas.ipynb#X52sZmlsZQ%3D%3D?line=0'>1</a>\u001b[0m newdf[\u001b[39m0\u001b[39;49m]\n",
      "File \u001b[1;32mc:\\Users\\LENOVO\\AppData\\Local\\Programs\\Python\\Python39\\lib\\site-packages\\pandas\\core\\frame.py:3505\u001b[0m, in \u001b[0;36mDataFrame.__getitem__\u001b[1;34m(self, key)\u001b[0m\n\u001b[0;32m   3503\u001b[0m \u001b[39mif\u001b[39;00m \u001b[39mself\u001b[39m\u001b[39m.\u001b[39mcolumns\u001b[39m.\u001b[39mnlevels \u001b[39m>\u001b[39m \u001b[39m1\u001b[39m:\n\u001b[0;32m   3504\u001b[0m     \u001b[39mreturn\u001b[39;00m \u001b[39mself\u001b[39m\u001b[39m.\u001b[39m_getitem_multilevel(key)\n\u001b[1;32m-> 3505\u001b[0m indexer \u001b[39m=\u001b[39m \u001b[39mself\u001b[39;49m\u001b[39m.\u001b[39;49mcolumns\u001b[39m.\u001b[39;49mget_loc(key)\n\u001b[0;32m   3506\u001b[0m \u001b[39mif\u001b[39;00m is_integer(indexer):\n\u001b[0;32m   3507\u001b[0m     indexer \u001b[39m=\u001b[39m [indexer]\n",
      "File \u001b[1;32mc:\\Users\\LENOVO\\AppData\\Local\\Programs\\Python\\Python39\\lib\\site-packages\\pandas\\core\\indexes\\base.py:3623\u001b[0m, in \u001b[0;36mIndex.get_loc\u001b[1;34m(self, key, method, tolerance)\u001b[0m\n\u001b[0;32m   3621\u001b[0m     \u001b[39mreturn\u001b[39;00m \u001b[39mself\u001b[39m\u001b[39m.\u001b[39m_engine\u001b[39m.\u001b[39mget_loc(casted_key)\n\u001b[0;32m   3622\u001b[0m \u001b[39mexcept\u001b[39;00m \u001b[39mKeyError\u001b[39;00m \u001b[39mas\u001b[39;00m err:\n\u001b[1;32m-> 3623\u001b[0m     \u001b[39mraise\u001b[39;00m \u001b[39mKeyError\u001b[39;00m(key) \u001b[39mfrom\u001b[39;00m \u001b[39merr\u001b[39;00m\n\u001b[0;32m   3624\u001b[0m \u001b[39mexcept\u001b[39;00m \u001b[39mTypeError\u001b[39;00m:\n\u001b[0;32m   3625\u001b[0m     \u001b[39m# If we have a listlike key, _check_indexing_error will raise\u001b[39;00m\n\u001b[0;32m   3626\u001b[0m     \u001b[39m#  InvalidIndexError. Otherwise we fall through and re-raise\u001b[39;00m\n\u001b[0;32m   3627\u001b[0m     \u001b[39m#  the TypeError.\u001b[39;00m\n\u001b[0;32m   3628\u001b[0m     \u001b[39mself\u001b[39m\u001b[39m.\u001b[39m_check_indexing_error(key)\n",
      "\u001b[1;31mKeyError\u001b[0m: 0"
     ]
    }
   ],
   "source": [
    "newdf[0]"
   ]
  },
  {
   "cell_type": "code",
   "execution_count": 40,
   "metadata": {},
   "outputs": [
    {
     "name": "stdout",
     "output_type": "stream",
     "text": [
      "            A         B         C         D         E      0\n",
      "0    0.674788  0.752651  0.728407  0.466735  0.184277  654.0\n",
      "1    0.094863  0.807772  0.800722  0.592486  0.058475    NaN\n",
      "2    0.576746  0.664259  0.625490  0.606980  0.551165    NaN\n",
      "3    0.648575  0.126615  0.785787  0.856361  0.446862    NaN\n",
      "4    0.677665  0.707367  0.576106  0.757430  0.101934    NaN\n",
      "..        ...       ...       ...       ...       ...    ...\n",
      "329  0.184897  0.939725  0.539705  0.019784  0.524587    NaN\n",
      "330  0.982734  0.859804  0.767068  0.512855  0.602677    NaN\n",
      "331  0.421230  0.773069  0.067055  0.328559  0.524235    NaN\n",
      "332  0.800100  0.388618  0.204683  0.263769  0.792540    NaN\n",
      "333  0.941215  0.847235  0.683526  0.778754  0.274978    NaN\n",
      "\n",
      "[334 rows x 6 columns]\n"
     ]
    }
   ],
   "source": [
    "newdf.loc[0,0]=654\n",
    "print(newdf)"
   ]
  },
  {
   "cell_type": "code",
   "execution_count": 41,
   "metadata": {},
   "outputs": [
    {
     "data": {
      "text/html": [
       "<div>\n",
       "<style scoped>\n",
       "    .dataframe tbody tr th:only-of-type {\n",
       "        vertical-align: middle;\n",
       "    }\n",
       "\n",
       "    .dataframe tbody tr th {\n",
       "        vertical-align: top;\n",
       "    }\n",
       "\n",
       "    .dataframe thead th {\n",
       "        text-align: right;\n",
       "    }\n",
       "</style>\n",
       "<table border=\"1\" class=\"dataframe\">\n",
       "  <thead>\n",
       "    <tr style=\"text-align: right;\">\n",
       "      <th></th>\n",
       "      <th>A</th>\n",
       "      <th>B</th>\n",
       "      <th>C</th>\n",
       "      <th>D</th>\n",
       "      <th>E</th>\n",
       "      <th>0</th>\n",
       "    </tr>\n",
       "  </thead>\n",
       "  <tbody>\n",
       "    <tr>\n",
       "      <th>1</th>\n",
       "      <td>0.094863</td>\n",
       "      <td>0.807772</td>\n",
       "      <td>0.800722</td>\n",
       "      <td>0.592486</td>\n",
       "      <td>0.058475</td>\n",
       "      <td>NaN</td>\n",
       "    </tr>\n",
       "    <tr>\n",
       "      <th>2</th>\n",
       "      <td>0.576746</td>\n",
       "      <td>0.664259</td>\n",
       "      <td>0.625490</td>\n",
       "      <td>0.606980</td>\n",
       "      <td>0.551165</td>\n",
       "      <td>NaN</td>\n",
       "    </tr>\n",
       "    <tr>\n",
       "      <th>3</th>\n",
       "      <td>0.648575</td>\n",
       "      <td>0.126615</td>\n",
       "      <td>0.785787</td>\n",
       "      <td>0.856361</td>\n",
       "      <td>0.446862</td>\n",
       "      <td>NaN</td>\n",
       "    </tr>\n",
       "    <tr>\n",
       "      <th>4</th>\n",
       "      <td>0.677665</td>\n",
       "      <td>0.707367</td>\n",
       "      <td>0.576106</td>\n",
       "      <td>0.757430</td>\n",
       "      <td>0.101934</td>\n",
       "      <td>NaN</td>\n",
       "    </tr>\n",
       "    <tr>\n",
       "      <th>5</th>\n",
       "      <td>0.207432</td>\n",
       "      <td>0.704507</td>\n",
       "      <td>0.743309</td>\n",
       "      <td>0.635683</td>\n",
       "      <td>0.716163</td>\n",
       "      <td>NaN</td>\n",
       "    </tr>\n",
       "    <tr>\n",
       "      <th>...</th>\n",
       "      <td>...</td>\n",
       "      <td>...</td>\n",
       "      <td>...</td>\n",
       "      <td>...</td>\n",
       "      <td>...</td>\n",
       "      <td>...</td>\n",
       "    </tr>\n",
       "    <tr>\n",
       "      <th>329</th>\n",
       "      <td>0.184897</td>\n",
       "      <td>0.939725</td>\n",
       "      <td>0.539705</td>\n",
       "      <td>0.019784</td>\n",
       "      <td>0.524587</td>\n",
       "      <td>NaN</td>\n",
       "    </tr>\n",
       "    <tr>\n",
       "      <th>330</th>\n",
       "      <td>0.982734</td>\n",
       "      <td>0.859804</td>\n",
       "      <td>0.767068</td>\n",
       "      <td>0.512855</td>\n",
       "      <td>0.602677</td>\n",
       "      <td>NaN</td>\n",
       "    </tr>\n",
       "    <tr>\n",
       "      <th>331</th>\n",
       "      <td>0.421230</td>\n",
       "      <td>0.773069</td>\n",
       "      <td>0.067055</td>\n",
       "      <td>0.328559</td>\n",
       "      <td>0.524235</td>\n",
       "      <td>NaN</td>\n",
       "    </tr>\n",
       "    <tr>\n",
       "      <th>332</th>\n",
       "      <td>0.800100</td>\n",
       "      <td>0.388618</td>\n",
       "      <td>0.204683</td>\n",
       "      <td>0.263769</td>\n",
       "      <td>0.792540</td>\n",
       "      <td>NaN</td>\n",
       "    </tr>\n",
       "    <tr>\n",
       "      <th>333</th>\n",
       "      <td>0.941215</td>\n",
       "      <td>0.847235</td>\n",
       "      <td>0.683526</td>\n",
       "      <td>0.778754</td>\n",
       "      <td>0.274978</td>\n",
       "      <td>NaN</td>\n",
       "    </tr>\n",
       "  </tbody>\n",
       "</table>\n",
       "<p>333 rows × 6 columns</p>\n",
       "</div>"
      ],
      "text/plain": [
       "            A         B         C         D         E   0\n",
       "1    0.094863  0.807772  0.800722  0.592486  0.058475 NaN\n",
       "2    0.576746  0.664259  0.625490  0.606980  0.551165 NaN\n",
       "3    0.648575  0.126615  0.785787  0.856361  0.446862 NaN\n",
       "4    0.677665  0.707367  0.576106  0.757430  0.101934 NaN\n",
       "5    0.207432  0.704507  0.743309  0.635683  0.716163 NaN\n",
       "..        ...       ...       ...       ...       ...  ..\n",
       "329  0.184897  0.939725  0.539705  0.019784  0.524587 NaN\n",
       "330  0.982734  0.859804  0.767068  0.512855  0.602677 NaN\n",
       "331  0.421230  0.773069  0.067055  0.328559  0.524235 NaN\n",
       "332  0.800100  0.388618  0.204683  0.263769  0.792540 NaN\n",
       "333  0.941215  0.847235  0.683526  0.778754  0.274978 NaN\n",
       "\n",
       "[333 rows x 6 columns]"
      ]
     },
     "execution_count": 41,
     "metadata": {},
     "output_type": "execute_result"
    }
   ],
   "source": [
    "newdf.drop(0,axis=0)"
   ]
  },
  {
   "cell_type": "code",
   "execution_count": 42,
   "metadata": {},
   "outputs": [
    {
     "data": {
      "text/html": [
       "<div>\n",
       "<style scoped>\n",
       "    .dataframe tbody tr th:only-of-type {\n",
       "        vertical-align: middle;\n",
       "    }\n",
       "\n",
       "    .dataframe tbody tr th {\n",
       "        vertical-align: top;\n",
       "    }\n",
       "\n",
       "    .dataframe thead th {\n",
       "        text-align: right;\n",
       "    }\n",
       "</style>\n",
       "<table border=\"1\" class=\"dataframe\">\n",
       "  <thead>\n",
       "    <tr style=\"text-align: right;\">\n",
       "      <th></th>\n",
       "      <th>A</th>\n",
       "      <th>B</th>\n",
       "      <th>C</th>\n",
       "      <th>D</th>\n",
       "      <th>E</th>\n",
       "    </tr>\n",
       "  </thead>\n",
       "  <tbody>\n",
       "    <tr>\n",
       "      <th>0</th>\n",
       "      <td>0.674788</td>\n",
       "      <td>0.752651</td>\n",
       "      <td>0.728407</td>\n",
       "      <td>0.466735</td>\n",
       "      <td>0.184277</td>\n",
       "    </tr>\n",
       "    <tr>\n",
       "      <th>1</th>\n",
       "      <td>0.094863</td>\n",
       "      <td>0.807772</td>\n",
       "      <td>0.800722</td>\n",
       "      <td>0.592486</td>\n",
       "      <td>0.058475</td>\n",
       "    </tr>\n",
       "    <tr>\n",
       "      <th>2</th>\n",
       "      <td>0.576746</td>\n",
       "      <td>0.664259</td>\n",
       "      <td>0.625490</td>\n",
       "      <td>0.606980</td>\n",
       "      <td>0.551165</td>\n",
       "    </tr>\n",
       "    <tr>\n",
       "      <th>3</th>\n",
       "      <td>0.648575</td>\n",
       "      <td>0.126615</td>\n",
       "      <td>0.785787</td>\n",
       "      <td>0.856361</td>\n",
       "      <td>0.446862</td>\n",
       "    </tr>\n",
       "    <tr>\n",
       "      <th>4</th>\n",
       "      <td>0.677665</td>\n",
       "      <td>0.707367</td>\n",
       "      <td>0.576106</td>\n",
       "      <td>0.757430</td>\n",
       "      <td>0.101934</td>\n",
       "    </tr>\n",
       "    <tr>\n",
       "      <th>...</th>\n",
       "      <td>...</td>\n",
       "      <td>...</td>\n",
       "      <td>...</td>\n",
       "      <td>...</td>\n",
       "      <td>...</td>\n",
       "    </tr>\n",
       "    <tr>\n",
       "      <th>329</th>\n",
       "      <td>0.184897</td>\n",
       "      <td>0.939725</td>\n",
       "      <td>0.539705</td>\n",
       "      <td>0.019784</td>\n",
       "      <td>0.524587</td>\n",
       "    </tr>\n",
       "    <tr>\n",
       "      <th>330</th>\n",
       "      <td>0.982734</td>\n",
       "      <td>0.859804</td>\n",
       "      <td>0.767068</td>\n",
       "      <td>0.512855</td>\n",
       "      <td>0.602677</td>\n",
       "    </tr>\n",
       "    <tr>\n",
       "      <th>331</th>\n",
       "      <td>0.421230</td>\n",
       "      <td>0.773069</td>\n",
       "      <td>0.067055</td>\n",
       "      <td>0.328559</td>\n",
       "      <td>0.524235</td>\n",
       "    </tr>\n",
       "    <tr>\n",
       "      <th>332</th>\n",
       "      <td>0.800100</td>\n",
       "      <td>0.388618</td>\n",
       "      <td>0.204683</td>\n",
       "      <td>0.263769</td>\n",
       "      <td>0.792540</td>\n",
       "    </tr>\n",
       "    <tr>\n",
       "      <th>333</th>\n",
       "      <td>0.941215</td>\n",
       "      <td>0.847235</td>\n",
       "      <td>0.683526</td>\n",
       "      <td>0.778754</td>\n",
       "      <td>0.274978</td>\n",
       "    </tr>\n",
       "  </tbody>\n",
       "</table>\n",
       "<p>334 rows × 5 columns</p>\n",
       "</div>"
      ],
      "text/plain": [
       "            A         B         C         D         E\n",
       "0    0.674788  0.752651  0.728407  0.466735  0.184277\n",
       "1    0.094863  0.807772  0.800722  0.592486  0.058475\n",
       "2    0.576746  0.664259  0.625490  0.606980  0.551165\n",
       "3    0.648575  0.126615  0.785787  0.856361  0.446862\n",
       "4    0.677665  0.707367  0.576106  0.757430  0.101934\n",
       "..        ...       ...       ...       ...       ...\n",
       "329  0.184897  0.939725  0.539705  0.019784  0.524587\n",
       "330  0.982734  0.859804  0.767068  0.512855  0.602677\n",
       "331  0.421230  0.773069  0.067055  0.328559  0.524235\n",
       "332  0.800100  0.388618  0.204683  0.263769  0.792540\n",
       "333  0.941215  0.847235  0.683526  0.778754  0.274978\n",
       "\n",
       "[334 rows x 5 columns]"
      ]
     },
     "execution_count": 42,
     "metadata": {},
     "output_type": "execute_result"
    }
   ],
   "source": [
    "newdf.drop(0,axis=1)"
   ]
  },
  {
   "cell_type": "code",
   "execution_count": 44,
   "metadata": {},
   "outputs": [
    {
     "ename": "TypeError",
     "evalue": "Cannot perform 'rand_' with a dtyped [float64] array and scalar of type [bool]",
     "output_type": "error",
     "traceback": [
      "\u001b[1;31m---------------------------------------------------------------------------\u001b[0m",
      "\u001b[1;31mTypeError\u001b[0m                                 Traceback (most recent call last)",
      "File \u001b[1;32mc:\\Users\\LENOVO\\AppData\\Local\\Programs\\Python\\Python39\\lib\\site-packages\\pandas\\core\\ops\\array_ops.py:301\u001b[0m, in \u001b[0;36mna_logical_op\u001b[1;34m(x, y, op)\u001b[0m\n\u001b[0;32m    292\u001b[0m \u001b[39mtry\u001b[39;00m:\n\u001b[0;32m    293\u001b[0m     \u001b[39m# For exposition, write:\u001b[39;00m\n\u001b[0;32m    294\u001b[0m     \u001b[39m#  yarr = isinstance(y, np.ndarray)\u001b[39;00m\n\u001b[1;32m   (...)\u001b[0m\n\u001b[0;32m    299\u001b[0m     \u001b[39m# Then Cases where this goes through without raising include:\u001b[39;00m\n\u001b[0;32m    300\u001b[0m     \u001b[39m#  (xint or xbool) and (yint or bool)\u001b[39;00m\n\u001b[1;32m--> 301\u001b[0m     result \u001b[39m=\u001b[39m op(x, y)\n\u001b[0;32m    302\u001b[0m \u001b[39mexcept\u001b[39;00m \u001b[39mTypeError\u001b[39;00m:\n",
      "File \u001b[1;32mc:\\Users\\LENOVO\\AppData\\Local\\Programs\\Python\\Python39\\lib\\site-packages\\pandas\\core\\roperator.py:52\u001b[0m, in \u001b[0;36mrand_\u001b[1;34m(left, right)\u001b[0m\n\u001b[0;32m     51\u001b[0m \u001b[39mdef\u001b[39;00m \u001b[39mrand_\u001b[39m(left, right):\n\u001b[1;32m---> 52\u001b[0m     \u001b[39mreturn\u001b[39;00m operator\u001b[39m.\u001b[39;49mand_(right, left)\n",
      "\u001b[1;31mTypeError\u001b[0m: ufunc 'bitwise_and' not supported for the input types, and the inputs could not be safely coerced to any supported types according to the casting rule ''safe''",
      "\nDuring handling of the above exception, another exception occurred:\n",
      "\u001b[1;31mValueError\u001b[0m                                Traceback (most recent call last)",
      "File \u001b[1;32mc:\\Users\\LENOVO\\AppData\\Local\\Programs\\Python\\Python39\\lib\\site-packages\\pandas\\core\\ops\\array_ops.py:315\u001b[0m, in \u001b[0;36mna_logical_op\u001b[1;34m(x, y, op)\u001b[0m\n\u001b[0;32m    314\u001b[0m \u001b[39mtry\u001b[39;00m:\n\u001b[1;32m--> 315\u001b[0m     result \u001b[39m=\u001b[39m libops\u001b[39m.\u001b[39;49mscalar_binop(x, y, op)\n\u001b[0;32m    316\u001b[0m \u001b[39mexcept\u001b[39;00m (\n\u001b[0;32m    317\u001b[0m     \u001b[39mTypeError\u001b[39;00m,\n\u001b[0;32m    318\u001b[0m     \u001b[39mValueError\u001b[39;00m,\n\u001b[1;32m   (...)\u001b[0m\n\u001b[0;32m    321\u001b[0m     \u001b[39mNotImplementedError\u001b[39;00m,\n\u001b[0;32m    322\u001b[0m ) \u001b[39mas\u001b[39;00m err:\n",
      "File \u001b[1;32mc:\\Users\\LENOVO\\AppData\\Local\\Programs\\Python\\Python39\\lib\\site-packages\\pandas\\_libs\\ops.pyx:180\u001b[0m, in \u001b[0;36mpandas._libs.ops.scalar_binop\u001b[1;34m()\u001b[0m\n",
      "\u001b[1;31mValueError\u001b[0m: Buffer dtype mismatch, expected 'Python object' but got 'double'",
      "\nThe above exception was the direct cause of the following exception:\n",
      "\u001b[1;31mTypeError\u001b[0m                                 Traceback (most recent call last)",
      "\u001b[1;32md:\\Data Analytics\\Numpy\\pandas.ipynb Cell 42\u001b[0m in \u001b[0;36m<cell line: 1>\u001b[1;34m()\u001b[0m\n\u001b[1;32m----> <a href='vscode-notebook-cell:/d%3A/Data%20Analytics/Numpy/pandas.ipynb#X56sZmlsZQ%3D%3D?line=0'>1</a>\u001b[0m newdf\u001b[39m.\u001b[39mloc(newdf[\u001b[39m'\u001b[39m\u001b[39mA\u001b[39m\u001b[39m'\u001b[39m]\u001b[39m>\u001b[39m\u001b[39m0.1\u001b[39;49m \u001b[39m&\u001b[39;49m newdf[\u001b[39m'\u001b[39;49m\u001b[39mB\u001b[39;49m\u001b[39m'\u001b[39;49m]\u001b[39m>\u001b[39m\u001b[39m0.1\u001b[39m)\u001b[39m.\u001b[39mhead(\u001b[39m3\u001b[39m)\n",
      "File \u001b[1;32mc:\\Users\\LENOVO\\AppData\\Local\\Programs\\Python\\Python39\\lib\\site-packages\\pandas\\core\\ops\\common.py:70\u001b[0m, in \u001b[0;36m_unpack_zerodim_and_defer.<locals>.new_method\u001b[1;34m(self, other)\u001b[0m\n\u001b[0;32m     66\u001b[0m             \u001b[39mreturn\u001b[39;00m \u001b[39mNotImplemented\u001b[39m\n\u001b[0;32m     68\u001b[0m other \u001b[39m=\u001b[39m item_from_zerodim(other)\n\u001b[1;32m---> 70\u001b[0m \u001b[39mreturn\u001b[39;00m method(\u001b[39mself\u001b[39;49m, other)\n",
      "File \u001b[1;32mc:\\Users\\LENOVO\\AppData\\Local\\Programs\\Python\\Python39\\lib\\site-packages\\pandas\\core\\arraylike.py:74\u001b[0m, in \u001b[0;36mOpsMixin.__rand__\u001b[1;34m(self, other)\u001b[0m\n\u001b[0;32m     72\u001b[0m \u001b[39m@unpack_zerodim_and_defer\u001b[39m(\u001b[39m\"\u001b[39m\u001b[39m__rand__\u001b[39m\u001b[39m\"\u001b[39m)\n\u001b[0;32m     73\u001b[0m \u001b[39mdef\u001b[39;00m \u001b[39m__rand__\u001b[39m(\u001b[39mself\u001b[39m, other):\n\u001b[1;32m---> 74\u001b[0m     \u001b[39mreturn\u001b[39;00m \u001b[39mself\u001b[39;49m\u001b[39m.\u001b[39;49m_logical_method(other, roperator\u001b[39m.\u001b[39;49mrand_)\n",
      "File \u001b[1;32mc:\\Users\\LENOVO\\AppData\\Local\\Programs\\Python\\Python39\\lib\\site-packages\\pandas\\core\\series.py:5634\u001b[0m, in \u001b[0;36mSeries._logical_method\u001b[1;34m(self, other, op)\u001b[0m\n\u001b[0;32m   5631\u001b[0m lvalues \u001b[39m=\u001b[39m \u001b[39mself\u001b[39m\u001b[39m.\u001b[39m_values\n\u001b[0;32m   5632\u001b[0m rvalues \u001b[39m=\u001b[39m extract_array(other, extract_numpy\u001b[39m=\u001b[39m\u001b[39mTrue\u001b[39;00m, extract_range\u001b[39m=\u001b[39m\u001b[39mTrue\u001b[39;00m)\n\u001b[1;32m-> 5634\u001b[0m res_values \u001b[39m=\u001b[39m ops\u001b[39m.\u001b[39;49mlogical_op(lvalues, rvalues, op)\n\u001b[0;32m   5635\u001b[0m \u001b[39mreturn\u001b[39;00m \u001b[39mself\u001b[39m\u001b[39m.\u001b[39m_construct_result(res_values, name\u001b[39m=\u001b[39mres_name)\n",
      "File \u001b[1;32mc:\\Users\\LENOVO\\AppData\\Local\\Programs\\Python\\Python39\\lib\\site-packages\\pandas\\core\\ops\\array_ops.py:391\u001b[0m, in \u001b[0;36mlogical_op\u001b[1;34m(left, right, op)\u001b[0m\n\u001b[0;32m    387\u001b[0m \u001b[39m# For int vs int `^`, `|`, `&` are bitwise operators and return\u001b[39;00m\n\u001b[0;32m    388\u001b[0m \u001b[39m#   integer dtypes.  Otherwise these are boolean ops\u001b[39;00m\n\u001b[0;32m    389\u001b[0m filler \u001b[39m=\u001b[39m fill_int \u001b[39mif\u001b[39;00m is_self_int_dtype \u001b[39mand\u001b[39;00m is_other_int_dtype \u001b[39melse\u001b[39;00m fill_bool\n\u001b[1;32m--> 391\u001b[0m res_values \u001b[39m=\u001b[39m na_logical_op(lvalues, rvalues, op)\n\u001b[0;32m    392\u001b[0m \u001b[39m# error: Cannot call function of unknown type\u001b[39;00m\n\u001b[0;32m    393\u001b[0m res_values \u001b[39m=\u001b[39m filler(res_values)  \u001b[39m# type: ignore[operator]\u001b[39;00m\n",
      "File \u001b[1;32mc:\\Users\\LENOVO\\AppData\\Local\\Programs\\Python\\Python39\\lib\\site-packages\\pandas\\core\\ops\\array_ops.py:324\u001b[0m, in \u001b[0;36mna_logical_op\u001b[1;34m(x, y, op)\u001b[0m\n\u001b[0;32m    316\u001b[0m         \u001b[39mexcept\u001b[39;00m (\n\u001b[0;32m    317\u001b[0m             \u001b[39mTypeError\u001b[39;00m,\n\u001b[0;32m    318\u001b[0m             \u001b[39mValueError\u001b[39;00m,\n\u001b[1;32m   (...)\u001b[0m\n\u001b[0;32m    321\u001b[0m             \u001b[39mNotImplementedError\u001b[39;00m,\n\u001b[0;32m    322\u001b[0m         ) \u001b[39mas\u001b[39;00m err:\n\u001b[0;32m    323\u001b[0m             typ \u001b[39m=\u001b[39m \u001b[39mtype\u001b[39m(y)\u001b[39m.\u001b[39m\u001b[39m__name__\u001b[39m\n\u001b[1;32m--> 324\u001b[0m             \u001b[39mraise\u001b[39;00m \u001b[39mTypeError\u001b[39;00m(\n\u001b[0;32m    325\u001b[0m                 \u001b[39mf\u001b[39m\u001b[39m\"\u001b[39m\u001b[39mCannot perform \u001b[39m\u001b[39m'\u001b[39m\u001b[39m{\u001b[39;00mop\u001b[39m.\u001b[39m\u001b[39m__name__\u001b[39m\u001b[39m}\u001b[39;00m\u001b[39m'\u001b[39m\u001b[39m with a dtyped [\u001b[39m\u001b[39m{\u001b[39;00mx\u001b[39m.\u001b[39mdtype\u001b[39m}\u001b[39;00m\u001b[39m] array \u001b[39m\u001b[39m\"\u001b[39m\n\u001b[0;32m    326\u001b[0m                 \u001b[39mf\u001b[39m\u001b[39m\"\u001b[39m\u001b[39mand scalar of type [\u001b[39m\u001b[39m{\u001b[39;00mtyp\u001b[39m}\u001b[39;00m\u001b[39m]\u001b[39m\u001b[39m\"\u001b[39m\n\u001b[0;32m    327\u001b[0m             ) \u001b[39mfrom\u001b[39;00m \u001b[39merr\u001b[39;00m\n\u001b[0;32m    329\u001b[0m \u001b[39mreturn\u001b[39;00m result\u001b[39m.\u001b[39mreshape(x\u001b[39m.\u001b[39mshape)\n",
      "\u001b[1;31mTypeError\u001b[0m: Cannot perform 'rand_' with a dtyped [float64] array and scalar of type [bool]"
     ]
    }
   ],
   "source": [
    "newdf.loc(newdf['A']>0.1 & newdf['B']>0.1).head(3)"
   ]
  },
  {
   "cell_type": "code",
   "execution_count": 45,
   "metadata": {},
   "outputs": [
    {
     "data": {
      "text/html": [
       "<div>\n",
       "<style scoped>\n",
       "    .dataframe tbody tr th:only-of-type {\n",
       "        vertical-align: middle;\n",
       "    }\n",
       "\n",
       "    .dataframe tbody tr th {\n",
       "        vertical-align: top;\n",
       "    }\n",
       "\n",
       "    .dataframe thead th {\n",
       "        text-align: right;\n",
       "    }\n",
       "</style>\n",
       "<table border=\"1\" class=\"dataframe\">\n",
       "  <thead>\n",
       "    <tr style=\"text-align: right;\">\n",
       "      <th></th>\n",
       "      <th>A</th>\n",
       "      <th>B</th>\n",
       "      <th>C</th>\n",
       "      <th>D</th>\n",
       "      <th>E</th>\n",
       "      <th>0</th>\n",
       "    </tr>\n",
       "  </thead>\n",
       "  <tbody>\n",
       "    <tr>\n",
       "      <th>0</th>\n",
       "      <td>0.674788</td>\n",
       "      <td>0.752651</td>\n",
       "      <td>0.728407</td>\n",
       "      <td>0.466735</td>\n",
       "      <td>0.184277</td>\n",
       "      <td>654.0</td>\n",
       "    </tr>\n",
       "    <tr>\n",
       "      <th>1</th>\n",
       "      <td>0.094863</td>\n",
       "      <td>0.807772</td>\n",
       "      <td>0.800722</td>\n",
       "      <td>0.592486</td>\n",
       "      <td>0.058475</td>\n",
       "      <td>NaN</td>\n",
       "    </tr>\n",
       "  </tbody>\n",
       "</table>\n",
       "</div>"
      ],
      "text/plain": [
       "          A         B         C         D         E      0\n",
       "0  0.674788  0.752651  0.728407  0.466735  0.184277  654.0\n",
       "1  0.094863  0.807772  0.800722  0.592486  0.058475    NaN"
      ]
     },
     "execution_count": 45,
     "metadata": {},
     "output_type": "execute_result"
    }
   ],
   "source": [
    "newdf.head(2)"
   ]
  },
  {
   "cell_type": "code",
   "execution_count": 46,
   "metadata": {},
   "outputs": [
    {
     "data": {
      "text/html": [
       "<div>\n",
       "<style scoped>\n",
       "    .dataframe tbody tr th:only-of-type {\n",
       "        vertical-align: middle;\n",
       "    }\n",
       "\n",
       "    .dataframe tbody tr th {\n",
       "        vertical-align: top;\n",
       "    }\n",
       "\n",
       "    .dataframe thead th {\n",
       "        text-align: right;\n",
       "    }\n",
       "</style>\n",
       "<table border=\"1\" class=\"dataframe\">\n",
       "  <thead>\n",
       "    <tr style=\"text-align: right;\">\n",
       "      <th></th>\n",
       "      <th>A</th>\n",
       "      <th>B</th>\n",
       "      <th>C</th>\n",
       "      <th>D</th>\n",
       "      <th>E</th>\n",
       "      <th>0</th>\n",
       "    </tr>\n",
       "  </thead>\n",
       "  <tbody>\n",
       "    <tr>\n",
       "      <th>1</th>\n",
       "      <td>0.094863</td>\n",
       "      <td>0.807772</td>\n",
       "      <td>0.800722</td>\n",
       "      <td>0.592486</td>\n",
       "      <td>0.058475</td>\n",
       "      <td>NaN</td>\n",
       "    </tr>\n",
       "    <tr>\n",
       "      <th>2</th>\n",
       "      <td>0.576746</td>\n",
       "      <td>0.664259</td>\n",
       "      <td>0.625490</td>\n",
       "      <td>0.606980</td>\n",
       "      <td>0.551165</td>\n",
       "      <td>NaN</td>\n",
       "    </tr>\n",
       "    <tr>\n",
       "      <th>3</th>\n",
       "      <td>0.648575</td>\n",
       "      <td>0.126615</td>\n",
       "      <td>0.785787</td>\n",
       "      <td>0.856361</td>\n",
       "      <td>0.446862</td>\n",
       "      <td>NaN</td>\n",
       "    </tr>\n",
       "    <tr>\n",
       "      <th>4</th>\n",
       "      <td>0.677665</td>\n",
       "      <td>0.707367</td>\n",
       "      <td>0.576106</td>\n",
       "      <td>0.757430</td>\n",
       "      <td>0.101934</td>\n",
       "      <td>NaN</td>\n",
       "    </tr>\n",
       "    <tr>\n",
       "      <th>5</th>\n",
       "      <td>0.207432</td>\n",
       "      <td>0.704507</td>\n",
       "      <td>0.743309</td>\n",
       "      <td>0.635683</td>\n",
       "      <td>0.716163</td>\n",
       "      <td>NaN</td>\n",
       "    </tr>\n",
       "    <tr>\n",
       "      <th>...</th>\n",
       "      <td>...</td>\n",
       "      <td>...</td>\n",
       "      <td>...</td>\n",
       "      <td>...</td>\n",
       "      <td>...</td>\n",
       "      <td>...</td>\n",
       "    </tr>\n",
       "    <tr>\n",
       "      <th>329</th>\n",
       "      <td>0.184897</td>\n",
       "      <td>0.939725</td>\n",
       "      <td>0.539705</td>\n",
       "      <td>0.019784</td>\n",
       "      <td>0.524587</td>\n",
       "      <td>NaN</td>\n",
       "    </tr>\n",
       "    <tr>\n",
       "      <th>330</th>\n",
       "      <td>0.982734</td>\n",
       "      <td>0.859804</td>\n",
       "      <td>0.767068</td>\n",
       "      <td>0.512855</td>\n",
       "      <td>0.602677</td>\n",
       "      <td>NaN</td>\n",
       "    </tr>\n",
       "    <tr>\n",
       "      <th>331</th>\n",
       "      <td>0.421230</td>\n",
       "      <td>0.773069</td>\n",
       "      <td>0.067055</td>\n",
       "      <td>0.328559</td>\n",
       "      <td>0.524235</td>\n",
       "      <td>NaN</td>\n",
       "    </tr>\n",
       "    <tr>\n",
       "      <th>332</th>\n",
       "      <td>0.800100</td>\n",
       "      <td>0.388618</td>\n",
       "      <td>0.204683</td>\n",
       "      <td>0.263769</td>\n",
       "      <td>0.792540</td>\n",
       "      <td>NaN</td>\n",
       "    </tr>\n",
       "    <tr>\n",
       "      <th>333</th>\n",
       "      <td>0.941215</td>\n",
       "      <td>0.847235</td>\n",
       "      <td>0.683526</td>\n",
       "      <td>0.778754</td>\n",
       "      <td>0.274978</td>\n",
       "      <td>NaN</td>\n",
       "    </tr>\n",
       "  </tbody>\n",
       "</table>\n",
       "<p>333 rows × 6 columns</p>\n",
       "</div>"
      ],
      "text/plain": [
       "            A         B         C         D         E   0\n",
       "1    0.094863  0.807772  0.800722  0.592486  0.058475 NaN\n",
       "2    0.576746  0.664259  0.625490  0.606980  0.551165 NaN\n",
       "3    0.648575  0.126615  0.785787  0.856361  0.446862 NaN\n",
       "4    0.677665  0.707367  0.576106  0.757430  0.101934 NaN\n",
       "5    0.207432  0.704507  0.743309  0.635683  0.716163 NaN\n",
       "..        ...       ...       ...       ...       ...  ..\n",
       "329  0.184897  0.939725  0.539705  0.019784  0.524587 NaN\n",
       "330  0.982734  0.859804  0.767068  0.512855  0.602677 NaN\n",
       "331  0.421230  0.773069  0.067055  0.328559  0.524235 NaN\n",
       "332  0.800100  0.388618  0.204683  0.263769  0.792540 NaN\n",
       "333  0.941215  0.847235  0.683526  0.778754  0.274978 NaN\n",
       "\n",
       "[333 rows x 6 columns]"
      ]
     },
     "execution_count": 46,
     "metadata": {},
     "output_type": "execute_result"
    }
   ],
   "source": [
    "newdf.drop(0,axis=0)"
   ]
  },
  {
   "cell_type": "code",
   "execution_count": 47,
   "metadata": {},
   "outputs": [
    {
     "data": {
      "text/html": [
       "<div>\n",
       "<style scoped>\n",
       "    .dataframe tbody tr th:only-of-type {\n",
       "        vertical-align: middle;\n",
       "    }\n",
       "\n",
       "    .dataframe tbody tr th {\n",
       "        vertical-align: top;\n",
       "    }\n",
       "\n",
       "    .dataframe thead th {\n",
       "        text-align: right;\n",
       "    }\n",
       "</style>\n",
       "<table border=\"1\" class=\"dataframe\">\n",
       "  <thead>\n",
       "    <tr style=\"text-align: right;\">\n",
       "      <th></th>\n",
       "      <th>A</th>\n",
       "      <th>B</th>\n",
       "      <th>C</th>\n",
       "      <th>D</th>\n",
       "      <th>E</th>\n",
       "    </tr>\n",
       "  </thead>\n",
       "  <tbody>\n",
       "    <tr>\n",
       "      <th>0</th>\n",
       "      <td>0.674788</td>\n",
       "      <td>0.752651</td>\n",
       "      <td>0.728407</td>\n",
       "      <td>0.466735</td>\n",
       "      <td>0.184277</td>\n",
       "    </tr>\n",
       "    <tr>\n",
       "      <th>1</th>\n",
       "      <td>0.094863</td>\n",
       "      <td>0.807772</td>\n",
       "      <td>0.800722</td>\n",
       "      <td>0.592486</td>\n",
       "      <td>0.058475</td>\n",
       "    </tr>\n",
       "    <tr>\n",
       "      <th>2</th>\n",
       "      <td>0.576746</td>\n",
       "      <td>0.664259</td>\n",
       "      <td>0.625490</td>\n",
       "      <td>0.606980</td>\n",
       "      <td>0.551165</td>\n",
       "    </tr>\n",
       "    <tr>\n",
       "      <th>3</th>\n",
       "      <td>0.648575</td>\n",
       "      <td>0.126615</td>\n",
       "      <td>0.785787</td>\n",
       "      <td>0.856361</td>\n",
       "      <td>0.446862</td>\n",
       "    </tr>\n",
       "    <tr>\n",
       "      <th>4</th>\n",
       "      <td>0.677665</td>\n",
       "      <td>0.707367</td>\n",
       "      <td>0.576106</td>\n",
       "      <td>0.757430</td>\n",
       "      <td>0.101934</td>\n",
       "    </tr>\n",
       "    <tr>\n",
       "      <th>...</th>\n",
       "      <td>...</td>\n",
       "      <td>...</td>\n",
       "      <td>...</td>\n",
       "      <td>...</td>\n",
       "      <td>...</td>\n",
       "    </tr>\n",
       "    <tr>\n",
       "      <th>329</th>\n",
       "      <td>0.184897</td>\n",
       "      <td>0.939725</td>\n",
       "      <td>0.539705</td>\n",
       "      <td>0.019784</td>\n",
       "      <td>0.524587</td>\n",
       "    </tr>\n",
       "    <tr>\n",
       "      <th>330</th>\n",
       "      <td>0.982734</td>\n",
       "      <td>0.859804</td>\n",
       "      <td>0.767068</td>\n",
       "      <td>0.512855</td>\n",
       "      <td>0.602677</td>\n",
       "    </tr>\n",
       "    <tr>\n",
       "      <th>331</th>\n",
       "      <td>0.421230</td>\n",
       "      <td>0.773069</td>\n",
       "      <td>0.067055</td>\n",
       "      <td>0.328559</td>\n",
       "      <td>0.524235</td>\n",
       "    </tr>\n",
       "    <tr>\n",
       "      <th>332</th>\n",
       "      <td>0.800100</td>\n",
       "      <td>0.388618</td>\n",
       "      <td>0.204683</td>\n",
       "      <td>0.263769</td>\n",
       "      <td>0.792540</td>\n",
       "    </tr>\n",
       "    <tr>\n",
       "      <th>333</th>\n",
       "      <td>0.941215</td>\n",
       "      <td>0.847235</td>\n",
       "      <td>0.683526</td>\n",
       "      <td>0.778754</td>\n",
       "      <td>0.274978</td>\n",
       "    </tr>\n",
       "  </tbody>\n",
       "</table>\n",
       "<p>334 rows × 5 columns</p>\n",
       "</div>"
      ],
      "text/plain": [
       "            A         B         C         D         E\n",
       "0    0.674788  0.752651  0.728407  0.466735  0.184277\n",
       "1    0.094863  0.807772  0.800722  0.592486  0.058475\n",
       "2    0.576746  0.664259  0.625490  0.606980  0.551165\n",
       "3    0.648575  0.126615  0.785787  0.856361  0.446862\n",
       "4    0.677665  0.707367  0.576106  0.757430  0.101934\n",
       "..        ...       ...       ...       ...       ...\n",
       "329  0.184897  0.939725  0.539705  0.019784  0.524587\n",
       "330  0.982734  0.859804  0.767068  0.512855  0.602677\n",
       "331  0.421230  0.773069  0.067055  0.328559  0.524235\n",
       "332  0.800100  0.388618  0.204683  0.263769  0.792540\n",
       "333  0.941215  0.847235  0.683526  0.778754  0.274978\n",
       "\n",
       "[334 rows x 5 columns]"
      ]
     },
     "execution_count": 47,
     "metadata": {},
     "output_type": "execute_result"
    }
   ],
   "source": [
    "newdf.drop(0,axis=1)"
   ]
  },
  {
   "cell_type": "code",
   "execution_count": 48,
   "metadata": {},
   "outputs": [
    {
     "data": {
      "text/html": [
       "<div>\n",
       "<style scoped>\n",
       "    .dataframe tbody tr th:only-of-type {\n",
       "        vertical-align: middle;\n",
       "    }\n",
       "\n",
       "    .dataframe tbody tr th {\n",
       "        vertical-align: top;\n",
       "    }\n",
       "\n",
       "    .dataframe thead th {\n",
       "        text-align: right;\n",
       "    }\n",
       "</style>\n",
       "<table border=\"1\" class=\"dataframe\">\n",
       "  <thead>\n",
       "    <tr style=\"text-align: right;\">\n",
       "      <th></th>\n",
       "      <th>A</th>\n",
       "      <th>B</th>\n",
       "      <th>C</th>\n",
       "      <th>D</th>\n",
       "      <th>E</th>\n",
       "      <th>0</th>\n",
       "    </tr>\n",
       "  </thead>\n",
       "  <tbody>\n",
       "    <tr>\n",
       "      <th>0</th>\n",
       "      <td>0.674788</td>\n",
       "      <td>0.752651</td>\n",
       "      <td>0.728407</td>\n",
       "      <td>0.466735</td>\n",
       "      <td>0.184277</td>\n",
       "      <td>654.0</td>\n",
       "    </tr>\n",
       "    <tr>\n",
       "      <th>1</th>\n",
       "      <td>0.094863</td>\n",
       "      <td>0.807772</td>\n",
       "      <td>0.800722</td>\n",
       "      <td>0.592486</td>\n",
       "      <td>0.058475</td>\n",
       "      <td>NaN</td>\n",
       "    </tr>\n",
       "    <tr>\n",
       "      <th>2</th>\n",
       "      <td>0.576746</td>\n",
       "      <td>0.664259</td>\n",
       "      <td>0.625490</td>\n",
       "      <td>0.606980</td>\n",
       "      <td>0.551165</td>\n",
       "      <td>NaN</td>\n",
       "    </tr>\n",
       "    <tr>\n",
       "      <th>3</th>\n",
       "      <td>0.648575</td>\n",
       "      <td>0.126615</td>\n",
       "      <td>0.785787</td>\n",
       "      <td>0.856361</td>\n",
       "      <td>0.446862</td>\n",
       "      <td>NaN</td>\n",
       "    </tr>\n",
       "    <tr>\n",
       "      <th>4</th>\n",
       "      <td>0.677665</td>\n",
       "      <td>0.707367</td>\n",
       "      <td>0.576106</td>\n",
       "      <td>0.757430</td>\n",
       "      <td>0.101934</td>\n",
       "      <td>NaN</td>\n",
       "    </tr>\n",
       "    <tr>\n",
       "      <th>...</th>\n",
       "      <td>...</td>\n",
       "      <td>...</td>\n",
       "      <td>...</td>\n",
       "      <td>...</td>\n",
       "      <td>...</td>\n",
       "      <td>...</td>\n",
       "    </tr>\n",
       "    <tr>\n",
       "      <th>329</th>\n",
       "      <td>0.184897</td>\n",
       "      <td>0.939725</td>\n",
       "      <td>0.539705</td>\n",
       "      <td>0.019784</td>\n",
       "      <td>0.524587</td>\n",
       "      <td>NaN</td>\n",
       "    </tr>\n",
       "    <tr>\n",
       "      <th>330</th>\n",
       "      <td>0.982734</td>\n",
       "      <td>0.859804</td>\n",
       "      <td>0.767068</td>\n",
       "      <td>0.512855</td>\n",
       "      <td>0.602677</td>\n",
       "      <td>NaN</td>\n",
       "    </tr>\n",
       "    <tr>\n",
       "      <th>331</th>\n",
       "      <td>0.421230</td>\n",
       "      <td>0.773069</td>\n",
       "      <td>0.067055</td>\n",
       "      <td>0.328559</td>\n",
       "      <td>0.524235</td>\n",
       "      <td>NaN</td>\n",
       "    </tr>\n",
       "    <tr>\n",
       "      <th>332</th>\n",
       "      <td>0.800100</td>\n",
       "      <td>0.388618</td>\n",
       "      <td>0.204683</td>\n",
       "      <td>0.263769</td>\n",
       "      <td>0.792540</td>\n",
       "      <td>NaN</td>\n",
       "    </tr>\n",
       "    <tr>\n",
       "      <th>333</th>\n",
       "      <td>0.941215</td>\n",
       "      <td>0.847235</td>\n",
       "      <td>0.683526</td>\n",
       "      <td>0.778754</td>\n",
       "      <td>0.274978</td>\n",
       "      <td>NaN</td>\n",
       "    </tr>\n",
       "  </tbody>\n",
       "</table>\n",
       "<p>334 rows × 6 columns</p>\n",
       "</div>"
      ],
      "text/plain": [
       "            A         B         C         D         E      0\n",
       "0    0.674788  0.752651  0.728407  0.466735  0.184277  654.0\n",
       "1    0.094863  0.807772  0.800722  0.592486  0.058475    NaN\n",
       "2    0.576746  0.664259  0.625490  0.606980  0.551165    NaN\n",
       "3    0.648575  0.126615  0.785787  0.856361  0.446862    NaN\n",
       "4    0.677665  0.707367  0.576106  0.757430  0.101934    NaN\n",
       "..        ...       ...       ...       ...       ...    ...\n",
       "329  0.184897  0.939725  0.539705  0.019784  0.524587    NaN\n",
       "330  0.982734  0.859804  0.767068  0.512855  0.602677    NaN\n",
       "331  0.421230  0.773069  0.067055  0.328559  0.524235    NaN\n",
       "332  0.800100  0.388618  0.204683  0.263769  0.792540    NaN\n",
       "333  0.941215  0.847235  0.683526  0.778754  0.274978    NaN\n",
       "\n",
       "[334 rows x 6 columns]"
      ]
     },
     "execution_count": 48,
     "metadata": {},
     "output_type": "execute_result"
    }
   ],
   "source": [
    "newdf"
   ]
  },
  {
   "cell_type": "code",
   "execution_count": 49,
   "metadata": {},
   "outputs": [
    {
     "ename": "TypeError",
     "evalue": "Cannot perform 'rand_' with a dtyped [float64] array and scalar of type [bool]",
     "output_type": "error",
     "traceback": [
      "\u001b[1;31m---------------------------------------------------------------------------\u001b[0m",
      "\u001b[1;31mTypeError\u001b[0m                                 Traceback (most recent call last)",
      "File \u001b[1;32mc:\\Users\\LENOVO\\AppData\\Local\\Programs\\Python\\Python39\\lib\\site-packages\\pandas\\core\\ops\\array_ops.py:301\u001b[0m, in \u001b[0;36mna_logical_op\u001b[1;34m(x, y, op)\u001b[0m\n\u001b[0;32m    292\u001b[0m \u001b[39mtry\u001b[39;00m:\n\u001b[0;32m    293\u001b[0m     \u001b[39m# For exposition, write:\u001b[39;00m\n\u001b[0;32m    294\u001b[0m     \u001b[39m#  yarr = isinstance(y, np.ndarray)\u001b[39;00m\n\u001b[1;32m   (...)\u001b[0m\n\u001b[0;32m    299\u001b[0m     \u001b[39m# Then Cases where this goes through without raising include:\u001b[39;00m\n\u001b[0;32m    300\u001b[0m     \u001b[39m#  (xint or xbool) and (yint or bool)\u001b[39;00m\n\u001b[1;32m--> 301\u001b[0m     result \u001b[39m=\u001b[39m op(x, y)\n\u001b[0;32m    302\u001b[0m \u001b[39mexcept\u001b[39;00m \u001b[39mTypeError\u001b[39;00m:\n",
      "File \u001b[1;32mc:\\Users\\LENOVO\\AppData\\Local\\Programs\\Python\\Python39\\lib\\site-packages\\pandas\\core\\roperator.py:52\u001b[0m, in \u001b[0;36mrand_\u001b[1;34m(left, right)\u001b[0m\n\u001b[0;32m     51\u001b[0m \u001b[39mdef\u001b[39;00m \u001b[39mrand_\u001b[39m(left, right):\n\u001b[1;32m---> 52\u001b[0m     \u001b[39mreturn\u001b[39;00m operator\u001b[39m.\u001b[39;49mand_(right, left)\n",
      "\u001b[1;31mTypeError\u001b[0m: ufunc 'bitwise_and' not supported for the input types, and the inputs could not be safely coerced to any supported types according to the casting rule ''safe''",
      "\nDuring handling of the above exception, another exception occurred:\n",
      "\u001b[1;31mValueError\u001b[0m                                Traceback (most recent call last)",
      "File \u001b[1;32mc:\\Users\\LENOVO\\AppData\\Local\\Programs\\Python\\Python39\\lib\\site-packages\\pandas\\core\\ops\\array_ops.py:315\u001b[0m, in \u001b[0;36mna_logical_op\u001b[1;34m(x, y, op)\u001b[0m\n\u001b[0;32m    314\u001b[0m \u001b[39mtry\u001b[39;00m:\n\u001b[1;32m--> 315\u001b[0m     result \u001b[39m=\u001b[39m libops\u001b[39m.\u001b[39;49mscalar_binop(x, y, op)\n\u001b[0;32m    316\u001b[0m \u001b[39mexcept\u001b[39;00m (\n\u001b[0;32m    317\u001b[0m     \u001b[39mTypeError\u001b[39;00m,\n\u001b[0;32m    318\u001b[0m     \u001b[39mValueError\u001b[39;00m,\n\u001b[1;32m   (...)\u001b[0m\n\u001b[0;32m    321\u001b[0m     \u001b[39mNotImplementedError\u001b[39;00m,\n\u001b[0;32m    322\u001b[0m ) \u001b[39mas\u001b[39;00m err:\n",
      "File \u001b[1;32mc:\\Users\\LENOVO\\AppData\\Local\\Programs\\Python\\Python39\\lib\\site-packages\\pandas\\_libs\\ops.pyx:180\u001b[0m, in \u001b[0;36mpandas._libs.ops.scalar_binop\u001b[1;34m()\u001b[0m\n",
      "\u001b[1;31mValueError\u001b[0m: Buffer dtype mismatch, expected 'Python object' but got 'double'",
      "\nThe above exception was the direct cause of the following exception:\n",
      "\u001b[1;31mTypeError\u001b[0m                                 Traceback (most recent call last)",
      "\u001b[1;32md:\\Data Analytics\\Numpy\\pandas.ipynb Cell 47\u001b[0m in \u001b[0;36m<cell line: 1>\u001b[1;34m()\u001b[0m\n\u001b[1;32m----> <a href='vscode-notebook-cell:/d%3A/Data%20Analytics/Numpy/pandas.ipynb#X64sZmlsZQ%3D%3D?line=0'>1</a>\u001b[0m newdf\u001b[39m.\u001b[39mloc(newdf[\u001b[39m'\u001b[39m\u001b[39mA\u001b[39m\u001b[39m'\u001b[39m]\u001b[39m>\u001b[39m\u001b[39m0.1\u001b[39;49m \u001b[39m&\u001b[39;49m newdf[\u001b[39m'\u001b[39;49m\u001b[39mB\u001b[39;49m\u001b[39m'\u001b[39;49m]\u001b[39m>\u001b[39m\u001b[39m0.1\u001b[39m)\u001b[39m.\u001b[39mhead(\u001b[39m3\u001b[39m)\n",
      "File \u001b[1;32mc:\\Users\\LENOVO\\AppData\\Local\\Programs\\Python\\Python39\\lib\\site-packages\\pandas\\core\\ops\\common.py:70\u001b[0m, in \u001b[0;36m_unpack_zerodim_and_defer.<locals>.new_method\u001b[1;34m(self, other)\u001b[0m\n\u001b[0;32m     66\u001b[0m             \u001b[39mreturn\u001b[39;00m \u001b[39mNotImplemented\u001b[39m\n\u001b[0;32m     68\u001b[0m other \u001b[39m=\u001b[39m item_from_zerodim(other)\n\u001b[1;32m---> 70\u001b[0m \u001b[39mreturn\u001b[39;00m method(\u001b[39mself\u001b[39;49m, other)\n",
      "File \u001b[1;32mc:\\Users\\LENOVO\\AppData\\Local\\Programs\\Python\\Python39\\lib\\site-packages\\pandas\\core\\arraylike.py:74\u001b[0m, in \u001b[0;36mOpsMixin.__rand__\u001b[1;34m(self, other)\u001b[0m\n\u001b[0;32m     72\u001b[0m \u001b[39m@unpack_zerodim_and_defer\u001b[39m(\u001b[39m\"\u001b[39m\u001b[39m__rand__\u001b[39m\u001b[39m\"\u001b[39m)\n\u001b[0;32m     73\u001b[0m \u001b[39mdef\u001b[39;00m \u001b[39m__rand__\u001b[39m(\u001b[39mself\u001b[39m, other):\n\u001b[1;32m---> 74\u001b[0m     \u001b[39mreturn\u001b[39;00m \u001b[39mself\u001b[39;49m\u001b[39m.\u001b[39;49m_logical_method(other, roperator\u001b[39m.\u001b[39;49mrand_)\n",
      "File \u001b[1;32mc:\\Users\\LENOVO\\AppData\\Local\\Programs\\Python\\Python39\\lib\\site-packages\\pandas\\core\\series.py:5634\u001b[0m, in \u001b[0;36mSeries._logical_method\u001b[1;34m(self, other, op)\u001b[0m\n\u001b[0;32m   5631\u001b[0m lvalues \u001b[39m=\u001b[39m \u001b[39mself\u001b[39m\u001b[39m.\u001b[39m_values\n\u001b[0;32m   5632\u001b[0m rvalues \u001b[39m=\u001b[39m extract_array(other, extract_numpy\u001b[39m=\u001b[39m\u001b[39mTrue\u001b[39;00m, extract_range\u001b[39m=\u001b[39m\u001b[39mTrue\u001b[39;00m)\n\u001b[1;32m-> 5634\u001b[0m res_values \u001b[39m=\u001b[39m ops\u001b[39m.\u001b[39;49mlogical_op(lvalues, rvalues, op)\n\u001b[0;32m   5635\u001b[0m \u001b[39mreturn\u001b[39;00m \u001b[39mself\u001b[39m\u001b[39m.\u001b[39m_construct_result(res_values, name\u001b[39m=\u001b[39mres_name)\n",
      "File \u001b[1;32mc:\\Users\\LENOVO\\AppData\\Local\\Programs\\Python\\Python39\\lib\\site-packages\\pandas\\core\\ops\\array_ops.py:391\u001b[0m, in \u001b[0;36mlogical_op\u001b[1;34m(left, right, op)\u001b[0m\n\u001b[0;32m    387\u001b[0m \u001b[39m# For int vs int `^`, `|`, `&` are bitwise operators and return\u001b[39;00m\n\u001b[0;32m    388\u001b[0m \u001b[39m#   integer dtypes.  Otherwise these are boolean ops\u001b[39;00m\n\u001b[0;32m    389\u001b[0m filler \u001b[39m=\u001b[39m fill_int \u001b[39mif\u001b[39;00m is_self_int_dtype \u001b[39mand\u001b[39;00m is_other_int_dtype \u001b[39melse\u001b[39;00m fill_bool\n\u001b[1;32m--> 391\u001b[0m res_values \u001b[39m=\u001b[39m na_logical_op(lvalues, rvalues, op)\n\u001b[0;32m    392\u001b[0m \u001b[39m# error: Cannot call function of unknown type\u001b[39;00m\n\u001b[0;32m    393\u001b[0m res_values \u001b[39m=\u001b[39m filler(res_values)  \u001b[39m# type: ignore[operator]\u001b[39;00m\n",
      "File \u001b[1;32mc:\\Users\\LENOVO\\AppData\\Local\\Programs\\Python\\Python39\\lib\\site-packages\\pandas\\core\\ops\\array_ops.py:324\u001b[0m, in \u001b[0;36mna_logical_op\u001b[1;34m(x, y, op)\u001b[0m\n\u001b[0;32m    316\u001b[0m         \u001b[39mexcept\u001b[39;00m (\n\u001b[0;32m    317\u001b[0m             \u001b[39mTypeError\u001b[39;00m,\n\u001b[0;32m    318\u001b[0m             \u001b[39mValueError\u001b[39;00m,\n\u001b[1;32m   (...)\u001b[0m\n\u001b[0;32m    321\u001b[0m             \u001b[39mNotImplementedError\u001b[39;00m,\n\u001b[0;32m    322\u001b[0m         ) \u001b[39mas\u001b[39;00m err:\n\u001b[0;32m    323\u001b[0m             typ \u001b[39m=\u001b[39m \u001b[39mtype\u001b[39m(y)\u001b[39m.\u001b[39m\u001b[39m__name__\u001b[39m\n\u001b[1;32m--> 324\u001b[0m             \u001b[39mraise\u001b[39;00m \u001b[39mTypeError\u001b[39;00m(\n\u001b[0;32m    325\u001b[0m                 \u001b[39mf\u001b[39m\u001b[39m\"\u001b[39m\u001b[39mCannot perform \u001b[39m\u001b[39m'\u001b[39m\u001b[39m{\u001b[39;00mop\u001b[39m.\u001b[39m\u001b[39m__name__\u001b[39m\u001b[39m}\u001b[39;00m\u001b[39m'\u001b[39m\u001b[39m with a dtyped [\u001b[39m\u001b[39m{\u001b[39;00mx\u001b[39m.\u001b[39mdtype\u001b[39m}\u001b[39;00m\u001b[39m] array \u001b[39m\u001b[39m\"\u001b[39m\n\u001b[0;32m    326\u001b[0m                 \u001b[39mf\u001b[39m\u001b[39m\"\u001b[39m\u001b[39mand scalar of type [\u001b[39m\u001b[39m{\u001b[39;00mtyp\u001b[39m}\u001b[39;00m\u001b[39m]\u001b[39m\u001b[39m\"\u001b[39m\n\u001b[0;32m    327\u001b[0m             ) \u001b[39mfrom\u001b[39;00m \u001b[39merr\u001b[39;00m\n\u001b[0;32m    329\u001b[0m \u001b[39mreturn\u001b[39;00m result\u001b[39m.\u001b[39mreshape(x\u001b[39m.\u001b[39mshape)\n",
      "\u001b[1;31mTypeError\u001b[0m: Cannot perform 'rand_' with a dtyped [float64] array and scalar of type [bool]"
     ]
    }
   ],
   "source": [
    "newdf.loc(newdf['A']>0.1 & newdf['B']>0.1).head(3)"
   ]
  },
  {
   "cell_type": "code",
   "execution_count": 50,
   "metadata": {},
   "outputs": [],
   "source": [
    "newdf = newdf.drop(0, axis=1)"
   ]
  },
  {
   "cell_type": "code",
   "execution_count": 51,
   "metadata": {},
   "outputs": [
    {
     "data": {
      "text/html": [
       "<div>\n",
       "<style scoped>\n",
       "    .dataframe tbody tr th:only-of-type {\n",
       "        vertical-align: middle;\n",
       "    }\n",
       "\n",
       "    .dataframe tbody tr th {\n",
       "        vertical-align: top;\n",
       "    }\n",
       "\n",
       "    .dataframe thead th {\n",
       "        text-align: right;\n",
       "    }\n",
       "</style>\n",
       "<table border=\"1\" class=\"dataframe\">\n",
       "  <thead>\n",
       "    <tr style=\"text-align: right;\">\n",
       "      <th></th>\n",
       "      <th>A</th>\n",
       "      <th>B</th>\n",
       "      <th>C</th>\n",
       "      <th>D</th>\n",
       "      <th>E</th>\n",
       "    </tr>\n",
       "  </thead>\n",
       "  <tbody>\n",
       "    <tr>\n",
       "      <th>0</th>\n",
       "      <td>0.674788</td>\n",
       "      <td>0.752651</td>\n",
       "      <td>0.728407</td>\n",
       "      <td>0.466735</td>\n",
       "      <td>0.184277</td>\n",
       "    </tr>\n",
       "    <tr>\n",
       "      <th>1</th>\n",
       "      <td>0.094863</td>\n",
       "      <td>0.807772</td>\n",
       "      <td>0.800722</td>\n",
       "      <td>0.592486</td>\n",
       "      <td>0.058475</td>\n",
       "    </tr>\n",
       "    <tr>\n",
       "      <th>2</th>\n",
       "      <td>0.576746</td>\n",
       "      <td>0.664259</td>\n",
       "      <td>0.625490</td>\n",
       "      <td>0.606980</td>\n",
       "      <td>0.551165</td>\n",
       "    </tr>\n",
       "    <tr>\n",
       "      <th>3</th>\n",
       "      <td>0.648575</td>\n",
       "      <td>0.126615</td>\n",
       "      <td>0.785787</td>\n",
       "      <td>0.856361</td>\n",
       "      <td>0.446862</td>\n",
       "    </tr>\n",
       "    <tr>\n",
       "      <th>4</th>\n",
       "      <td>0.677665</td>\n",
       "      <td>0.707367</td>\n",
       "      <td>0.576106</td>\n",
       "      <td>0.757430</td>\n",
       "      <td>0.101934</td>\n",
       "    </tr>\n",
       "    <tr>\n",
       "      <th>...</th>\n",
       "      <td>...</td>\n",
       "      <td>...</td>\n",
       "      <td>...</td>\n",
       "      <td>...</td>\n",
       "      <td>...</td>\n",
       "    </tr>\n",
       "    <tr>\n",
       "      <th>329</th>\n",
       "      <td>0.184897</td>\n",
       "      <td>0.939725</td>\n",
       "      <td>0.539705</td>\n",
       "      <td>0.019784</td>\n",
       "      <td>0.524587</td>\n",
       "    </tr>\n",
       "    <tr>\n",
       "      <th>330</th>\n",
       "      <td>0.982734</td>\n",
       "      <td>0.859804</td>\n",
       "      <td>0.767068</td>\n",
       "      <td>0.512855</td>\n",
       "      <td>0.602677</td>\n",
       "    </tr>\n",
       "    <tr>\n",
       "      <th>331</th>\n",
       "      <td>0.421230</td>\n",
       "      <td>0.773069</td>\n",
       "      <td>0.067055</td>\n",
       "      <td>0.328559</td>\n",
       "      <td>0.524235</td>\n",
       "    </tr>\n",
       "    <tr>\n",
       "      <th>332</th>\n",
       "      <td>0.800100</td>\n",
       "      <td>0.388618</td>\n",
       "      <td>0.204683</td>\n",
       "      <td>0.263769</td>\n",
       "      <td>0.792540</td>\n",
       "    </tr>\n",
       "    <tr>\n",
       "      <th>333</th>\n",
       "      <td>0.941215</td>\n",
       "      <td>0.847235</td>\n",
       "      <td>0.683526</td>\n",
       "      <td>0.778754</td>\n",
       "      <td>0.274978</td>\n",
       "    </tr>\n",
       "  </tbody>\n",
       "</table>\n",
       "<p>334 rows × 5 columns</p>\n",
       "</div>"
      ],
      "text/plain": [
       "            A         B         C         D         E\n",
       "0    0.674788  0.752651  0.728407  0.466735  0.184277\n",
       "1    0.094863  0.807772  0.800722  0.592486  0.058475\n",
       "2    0.576746  0.664259  0.625490  0.606980  0.551165\n",
       "3    0.648575  0.126615  0.785787  0.856361  0.446862\n",
       "4    0.677665  0.707367  0.576106  0.757430  0.101934\n",
       "..        ...       ...       ...       ...       ...\n",
       "329  0.184897  0.939725  0.539705  0.019784  0.524587\n",
       "330  0.982734  0.859804  0.767068  0.512855  0.602677\n",
       "331  0.421230  0.773069  0.067055  0.328559  0.524235\n",
       "332  0.800100  0.388618  0.204683  0.263769  0.792540\n",
       "333  0.941215  0.847235  0.683526  0.778754  0.274978\n",
       "\n",
       "[334 rows x 5 columns]"
      ]
     },
     "execution_count": 51,
     "metadata": {},
     "output_type": "execute_result"
    }
   ],
   "source": [
    "newdf"
   ]
  },
  {
   "cell_type": "code",
   "execution_count": 52,
   "metadata": {},
   "outputs": [],
   "source": [
    "# inplace=True\n",
    "# If True, do operation inplace and return None.\n",
    "# inplace=False\n",
    "# If False, return a copy.\n"
   ]
  },
  {
   "cell_type": "code",
   "execution_count": 53,
   "metadata": {},
   "outputs": [],
   "source": [
    "# iloc\n",
    "# Purely integer-location based indexing for selection by position.\n",
    "# .iloc[] is primarily integer position based (from 0 to length-1 of the axis), but may also be used with a boolean array.\n"
   ]
  },
  {
   "cell_type": "code",
   "execution_count": 54,
   "metadata": {},
   "outputs": [
    {
     "data": {
      "text/html": [
       "<div>\n",
       "<style scoped>\n",
       "    .dataframe tbody tr th:only-of-type {\n",
       "        vertical-align: middle;\n",
       "    }\n",
       "\n",
       "    .dataframe tbody tr th {\n",
       "        vertical-align: top;\n",
       "    }\n",
       "\n",
       "    .dataframe thead th {\n",
       "        text-align: right;\n",
       "    }\n",
       "</style>\n",
       "<table border=\"1\" class=\"dataframe\">\n",
       "  <thead>\n",
       "    <tr style=\"text-align: right;\">\n",
       "      <th></th>\n",
       "      <th>A</th>\n",
       "      <th>B</th>\n",
       "    </tr>\n",
       "  </thead>\n",
       "  <tbody>\n",
       "    <tr>\n",
       "      <th>0</th>\n",
       "      <td>0.674788</td>\n",
       "      <td>0.752651</td>\n",
       "    </tr>\n",
       "    <tr>\n",
       "      <th>1</th>\n",
       "      <td>0.094863</td>\n",
       "      <td>0.807772</td>\n",
       "    </tr>\n",
       "    <tr>\n",
       "      <th>2</th>\n",
       "      <td>0.576746</td>\n",
       "      <td>0.664259</td>\n",
       "    </tr>\n",
       "  </tbody>\n",
       "</table>\n",
       "</div>"
      ],
      "text/plain": [
       "          A         B\n",
       "0  0.674788  0.752651\n",
       "1  0.094863  0.807772\n",
       "2  0.576746  0.664259"
      ]
     },
     "execution_count": 54,
     "metadata": {},
     "output_type": "execute_result"
    }
   ],
   "source": [
    "newdf.iloc[0:3, 0:2]"
   ]
  },
  {
   "cell_type": "code",
   "execution_count": 55,
   "metadata": {},
   "outputs": [
    {
     "data": {
      "text/html": [
       "<div>\n",
       "<style scoped>\n",
       "    .dataframe tbody tr th:only-of-type {\n",
       "        vertical-align: middle;\n",
       "    }\n",
       "\n",
       "    .dataframe tbody tr th {\n",
       "        vertical-align: top;\n",
       "    }\n",
       "\n",
       "    .dataframe thead th {\n",
       "        text-align: right;\n",
       "    }\n",
       "</style>\n",
       "<table border=\"1\" class=\"dataframe\">\n",
       "  <thead>\n",
       "    <tr style=\"text-align: right;\">\n",
       "      <th></th>\n",
       "      <th>A</th>\n",
       "      <th>B</th>\n",
       "    </tr>\n",
       "  </thead>\n",
       "  <tbody>\n",
       "    <tr>\n",
       "      <th>0</th>\n",
       "      <td>0.674788</td>\n",
       "      <td>0.752651</td>\n",
       "    </tr>\n",
       "    <tr>\n",
       "      <th>1</th>\n",
       "      <td>0.094863</td>\n",
       "      <td>0.807772</td>\n",
       "    </tr>\n",
       "    <tr>\n",
       "      <th>2</th>\n",
       "      <td>0.576746</td>\n",
       "      <td>0.664259</td>\n",
       "    </tr>\n",
       "  </tbody>\n",
       "</table>\n",
       "</div>"
      ],
      "text/plain": [
       "          A         B\n",
       "0  0.674788  0.752651\n",
       "1  0.094863  0.807772\n",
       "2  0.576746  0.664259"
      ]
     },
     "execution_count": 55,
     "metadata": {},
     "output_type": "execute_result"
    }
   ],
   "source": [
    "newdf = newdf.iloc[0:3, 0:2]\n",
    "newdf"
   ]
  },
  {
   "cell_type": "code",
   "execution_count": 56,
   "metadata": {},
   "outputs": [],
   "source": [
    "newdf.to_csv(\"newdf.csv\")"
   ]
  },
  {
   "cell_type": "code",
   "execution_count": 57,
   "metadata": {},
   "outputs": [
    {
     "data": {
      "text/html": [
       "<div>\n",
       "<style scoped>\n",
       "    .dataframe tbody tr th:only-of-type {\n",
       "        vertical-align: middle;\n",
       "    }\n",
       "\n",
       "    .dataframe tbody tr th {\n",
       "        vertical-align: top;\n",
       "    }\n",
       "\n",
       "    .dataframe thead th {\n",
       "        text-align: right;\n",
       "    }\n",
       "</style>\n",
       "<table border=\"1\" class=\"dataframe\">\n",
       "  <thead>\n",
       "    <tr style=\"text-align: right;\">\n",
       "      <th></th>\n",
       "      <th>A</th>\n",
       "      <th>B</th>\n",
       "    </tr>\n",
       "  </thead>\n",
       "  <tbody>\n",
       "    <tr>\n",
       "      <th>0</th>\n",
       "      <td>0.674788</td>\n",
       "      <td>0.752651</td>\n",
       "    </tr>\n",
       "    <tr>\n",
       "      <th>1</th>\n",
       "      <td>0.094863</td>\n",
       "      <td>0.807772</td>\n",
       "    </tr>\n",
       "    <tr>\n",
       "      <th>2</th>\n",
       "      <td>0.576746</td>\n",
       "      <td>0.664259</td>\n",
       "    </tr>\n",
       "  </tbody>\n",
       "</table>\n",
       "</div>"
      ],
      "text/plain": [
       "          A         B\n",
       "0  0.674788  0.752651\n",
       "1  0.094863  0.807772\n",
       "2  0.576746  0.664259"
      ]
     },
     "execution_count": 57,
     "metadata": {},
     "output_type": "execute_result"
    }
   ],
   "source": [
    "newdf.loc[0:2, 'A':'B']\n"
   ]
  },
  {
   "cell_type": "code",
   "execution_count": 58,
   "metadata": {},
   "outputs": [],
   "source": [
    "#loc is label based, which means that we have to specify the name of the rows and columns that we need to filter out.\n",
    "# example of loc\n",
    "# df.loc[rows, columns]\n"
   ]
  },
  {
   "cell_type": "code",
   "execution_count": 59,
   "metadata": {},
   "outputs": [],
   "source": [
    "newdf.loc[0,0]=654"
   ]
  },
  {
   "cell_type": "code",
   "execution_count": 60,
   "metadata": {},
   "outputs": [
    {
     "data": {
      "text/html": [
       "<div>\n",
       "<style scoped>\n",
       "    .dataframe tbody tr th:only-of-type {\n",
       "        vertical-align: middle;\n",
       "    }\n",
       "\n",
       "    .dataframe tbody tr th {\n",
       "        vertical-align: top;\n",
       "    }\n",
       "\n",
       "    .dataframe thead th {\n",
       "        text-align: right;\n",
       "    }\n",
       "</style>\n",
       "<table border=\"1\" class=\"dataframe\">\n",
       "  <thead>\n",
       "    <tr style=\"text-align: right;\">\n",
       "      <th></th>\n",
       "      <th>A</th>\n",
       "      <th>B</th>\n",
       "      <th>0</th>\n",
       "    </tr>\n",
       "  </thead>\n",
       "  <tbody>\n",
       "    <tr>\n",
       "      <th>0</th>\n",
       "      <td>0.674788</td>\n",
       "      <td>0.752651</td>\n",
       "      <td>654.0</td>\n",
       "    </tr>\n",
       "    <tr>\n",
       "      <th>1</th>\n",
       "      <td>0.094863</td>\n",
       "      <td>0.807772</td>\n",
       "      <td>NaN</td>\n",
       "    </tr>\n",
       "    <tr>\n",
       "      <th>2</th>\n",
       "      <td>0.576746</td>\n",
       "      <td>0.664259</td>\n",
       "      <td>NaN</td>\n",
       "    </tr>\n",
       "  </tbody>\n",
       "</table>\n",
       "</div>"
      ],
      "text/plain": [
       "          A         B      0\n",
       "0  0.674788  0.752651  654.0\n",
       "1  0.094863  0.807772    NaN\n",
       "2  0.576746  0.664259    NaN"
      ]
     },
     "execution_count": 60,
     "metadata": {},
     "output_type": "execute_result"
    }
   ],
   "source": [
    "newdf"
   ]
  },
  {
   "cell_type": "code",
   "execution_count": 61,
   "metadata": {},
   "outputs": [
    {
     "data": {
      "text/html": [
       "<div>\n",
       "<style scoped>\n",
       "    .dataframe tbody tr th:only-of-type {\n",
       "        vertical-align: middle;\n",
       "    }\n",
       "\n",
       "    .dataframe tbody tr th {\n",
       "        vertical-align: top;\n",
       "    }\n",
       "\n",
       "    .dataframe thead th {\n",
       "        text-align: right;\n",
       "    }\n",
       "</style>\n",
       "<table border=\"1\" class=\"dataframe\">\n",
       "  <thead>\n",
       "    <tr style=\"text-align: right;\">\n",
       "      <th></th>\n",
       "      <th>A</th>\n",
       "      <th>B</th>\n",
       "    </tr>\n",
       "  </thead>\n",
       "  <tbody>\n",
       "    <tr>\n",
       "      <th>0</th>\n",
       "      <td>0.674788</td>\n",
       "      <td>0.752651</td>\n",
       "    </tr>\n",
       "    <tr>\n",
       "      <th>1</th>\n",
       "      <td>0.094863</td>\n",
       "      <td>0.807772</td>\n",
       "    </tr>\n",
       "    <tr>\n",
       "      <th>2</th>\n",
       "      <td>0.576746</td>\n",
       "      <td>0.664259</td>\n",
       "    </tr>\n",
       "  </tbody>\n",
       "</table>\n",
       "</div>"
      ],
      "text/plain": [
       "          A         B\n",
       "0  0.674788  0.752651\n",
       "1  0.094863  0.807772\n",
       "2  0.576746  0.664259"
      ]
     },
     "execution_count": 61,
     "metadata": {},
     "output_type": "execute_result"
    }
   ],
   "source": [
    "newdf.drop(0, axis=1)"
   ]
  },
  {
   "cell_type": "code",
   "execution_count": 62,
   "metadata": {},
   "outputs": [
    {
     "data": {
      "text/html": [
       "<div>\n",
       "<style scoped>\n",
       "    .dataframe tbody tr th:only-of-type {\n",
       "        vertical-align: middle;\n",
       "    }\n",
       "\n",
       "    .dataframe tbody tr th {\n",
       "        vertical-align: top;\n",
       "    }\n",
       "\n",
       "    .dataframe thead th {\n",
       "        text-align: right;\n",
       "    }\n",
       "</style>\n",
       "<table border=\"1\" class=\"dataframe\">\n",
       "  <thead>\n",
       "    <tr style=\"text-align: right;\">\n",
       "      <th></th>\n",
       "      <th>A</th>\n",
       "      <th>B</th>\n",
       "      <th>0</th>\n",
       "    </tr>\n",
       "  </thead>\n",
       "  <tbody>\n",
       "    <tr>\n",
       "      <th>0</th>\n",
       "      <td>0.674788</td>\n",
       "      <td>0.752651</td>\n",
       "      <td>654.0</td>\n",
       "    </tr>\n",
       "  </tbody>\n",
       "</table>\n",
       "</div>"
      ],
      "text/plain": [
       "          A         B      0\n",
       "0  0.674788  0.752651  654.0"
      ]
     },
     "execution_count": 62,
     "metadata": {},
     "output_type": "execute_result"
    }
   ],
   "source": [
    "newdf.dropna()"
   ]
  },
  {
   "cell_type": "code",
   "execution_count": 63,
   "metadata": {},
   "outputs": [],
   "source": [
    "# dropna\n",
    "# Remove missing values.\n",
    "# Return object with labels on given axis omitted where alternately any or all of the data are missing.\n"
   ]
  },
  {
   "cell_type": "code",
   "execution_count": 64,
   "metadata": {},
   "outputs": [
    {
     "data": {
      "text/html": [
       "<div>\n",
       "<style scoped>\n",
       "    .dataframe tbody tr th:only-of-type {\n",
       "        vertical-align: middle;\n",
       "    }\n",
       "\n",
       "    .dataframe tbody tr th {\n",
       "        vertical-align: top;\n",
       "    }\n",
       "\n",
       "    .dataframe thead th {\n",
       "        text-align: right;\n",
       "    }\n",
       "</style>\n",
       "<table border=\"1\" class=\"dataframe\">\n",
       "  <thead>\n",
       "    <tr style=\"text-align: right;\">\n",
       "      <th></th>\n",
       "      <th>A</th>\n",
       "      <th>B</th>\n",
       "      <th>0</th>\n",
       "    </tr>\n",
       "  </thead>\n",
       "  <tbody>\n",
       "    <tr>\n",
       "      <th>0</th>\n",
       "      <td>0.674788</td>\n",
       "      <td>0.752651</td>\n",
       "      <td>654.0</td>\n",
       "    </tr>\n",
       "    <tr>\n",
       "      <th>1</th>\n",
       "      <td>0.094863</td>\n",
       "      <td>0.807772</td>\n",
       "      <td>NaN</td>\n",
       "    </tr>\n",
       "    <tr>\n",
       "      <th>2</th>\n",
       "      <td>0.576746</td>\n",
       "      <td>0.664259</td>\n",
       "      <td>NaN</td>\n",
       "    </tr>\n",
       "  </tbody>\n",
       "</table>\n",
       "</div>"
      ],
      "text/plain": [
       "          A         B      0\n",
       "0  0.674788  0.752651  654.0\n",
       "1  0.094863  0.807772    NaN\n",
       "2  0.576746  0.664259    NaN"
      ]
     },
     "execution_count": 64,
     "metadata": {},
     "output_type": "execute_result"
    }
   ],
   "source": [
    "newdf.drop_duplicates()"
   ]
  },
  {
   "cell_type": "code",
   "execution_count": 65,
   "metadata": {},
   "outputs": [
    {
     "data": {
      "text/plain": [
       "(4, 3)"
      ]
     },
     "execution_count": 65,
     "metadata": {},
     "output_type": "execute_result"
    }
   ],
   "source": [
    "df.shape"
   ]
  },
  {
   "cell_type": "code",
   "execution_count": 66,
   "metadata": {},
   "outputs": [
    {
     "data": {
      "text/plain": [
       "<bound method DataFrame.info of       name  marks      city\n",
       "0    harry     92    rampur\n",
       "1    rohan     34   kolkata\n",
       "2   skillf     24     delhi\n",
       "3  shubham      2  bareilly>"
      ]
     },
     "execution_count": 66,
     "metadata": {},
     "output_type": "execute_result"
    }
   ],
   "source": [
    "df.info"
   ]
  },
  {
   "cell_type": "code",
   "execution_count": 67,
   "metadata": {},
   "outputs": [
    {
     "name": "stdout",
     "output_type": "stream",
     "text": [
      "<class 'pandas.core.frame.DataFrame'>\n",
      "Int64Index: 4 entries, 0 to 3\n",
      "Data columns (total 3 columns):\n",
      " #   Column  Non-Null Count  Dtype \n",
      "---  ------  --------------  ----- \n",
      " 0   name    4 non-null      object\n",
      " 1   marks   4 non-null      int64 \n",
      " 2   city    4 non-null      object\n",
      "dtypes: int64(1), object(2)\n",
      "memory usage: 128.0+ bytes\n"
     ]
    }
   ],
   "source": [
    "df.info()"
   ]
  },
  {
   "cell_type": "code",
   "execution_count": 68,
   "metadata": {},
   "outputs": [
    {
     "data": {
      "text/plain": [
       "<bound method NDFrame.describe of       name  marks      city\n",
       "0    harry     92    rampur\n",
       "1    rohan     34   kolkata\n",
       "2   skillf     24     delhi\n",
       "3  shubham      2  bareilly>"
      ]
     },
     "execution_count": 68,
     "metadata": {},
     "output_type": "execute_result"
    }
   ],
   "source": [
    "df.describe"
   ]
  },
  {
   "cell_type": "code",
   "execution_count": 69,
   "metadata": {},
   "outputs": [
    {
     "data": {
      "text/html": [
       "<div>\n",
       "<style scoped>\n",
       "    .dataframe tbody tr th:only-of-type {\n",
       "        vertical-align: middle;\n",
       "    }\n",
       "\n",
       "    .dataframe tbody tr th {\n",
       "        vertical-align: top;\n",
       "    }\n",
       "\n",
       "    .dataframe thead th {\n",
       "        text-align: right;\n",
       "    }\n",
       "</style>\n",
       "<table border=\"1\" class=\"dataframe\">\n",
       "  <thead>\n",
       "    <tr style=\"text-align: right;\">\n",
       "      <th></th>\n",
       "      <th>marks</th>\n",
       "    </tr>\n",
       "  </thead>\n",
       "  <tbody>\n",
       "    <tr>\n",
       "      <th>count</th>\n",
       "      <td>4.000000</td>\n",
       "    </tr>\n",
       "    <tr>\n",
       "      <th>mean</th>\n",
       "      <td>38.000000</td>\n",
       "    </tr>\n",
       "    <tr>\n",
       "      <th>std</th>\n",
       "      <td>38.401389</td>\n",
       "    </tr>\n",
       "    <tr>\n",
       "      <th>min</th>\n",
       "      <td>2.000000</td>\n",
       "    </tr>\n",
       "    <tr>\n",
       "      <th>25%</th>\n",
       "      <td>18.500000</td>\n",
       "    </tr>\n",
       "    <tr>\n",
       "      <th>50%</th>\n",
       "      <td>29.000000</td>\n",
       "    </tr>\n",
       "    <tr>\n",
       "      <th>75%</th>\n",
       "      <td>48.500000</td>\n",
       "    </tr>\n",
       "    <tr>\n",
       "      <th>max</th>\n",
       "      <td>92.000000</td>\n",
       "    </tr>\n",
       "  </tbody>\n",
       "</table>\n",
       "</div>"
      ],
      "text/plain": [
       "           marks\n",
       "count   4.000000\n",
       "mean   38.000000\n",
       "std    38.401389\n",
       "min     2.000000\n",
       "25%    18.500000\n",
       "50%    29.000000\n",
       "75%    48.500000\n",
       "max    92.000000"
      ]
     },
     "execution_count": 69,
     "metadata": {},
     "output_type": "execute_result"
    }
   ],
   "source": [
    "df.describe()"
   ]
  },
  {
   "cell_type": "code",
   "execution_count": 70,
   "metadata": {},
   "outputs": [
    {
     "data": {
      "text/html": [
       "<div>\n",
       "<style scoped>\n",
       "    .dataframe tbody tr th:only-of-type {\n",
       "        vertical-align: middle;\n",
       "    }\n",
       "\n",
       "    .dataframe tbody tr th {\n",
       "        vertical-align: top;\n",
       "    }\n",
       "\n",
       "    .dataframe thead th {\n",
       "        text-align: right;\n",
       "    }\n",
       "</style>\n",
       "<table border=\"1\" class=\"dataframe\">\n",
       "  <thead>\n",
       "    <tr style=\"text-align: right;\">\n",
       "      <th></th>\n",
       "      <th>A</th>\n",
       "      <th>B</th>\n",
       "      <th>0</th>\n",
       "    </tr>\n",
       "  </thead>\n",
       "  <tbody>\n",
       "    <tr>\n",
       "      <th>0</th>\n",
       "      <td>True</td>\n",
       "      <td>True</td>\n",
       "      <td>True</td>\n",
       "    </tr>\n",
       "    <tr>\n",
       "      <th>1</th>\n",
       "      <td>True</td>\n",
       "      <td>True</td>\n",
       "      <td>False</td>\n",
       "    </tr>\n",
       "    <tr>\n",
       "      <th>2</th>\n",
       "      <td>True</td>\n",
       "      <td>True</td>\n",
       "      <td>False</td>\n",
       "    </tr>\n",
       "  </tbody>\n",
       "</table>\n",
       "</div>"
      ],
      "text/plain": [
       "      A     B      0\n",
       "0  True  True   True\n",
       "1  True  True  False\n",
       "2  True  True  False"
      ]
     },
     "execution_count": 70,
     "metadata": {},
     "output_type": "execute_result"
    }
   ],
   "source": [
    "newdf.notnull()"
   ]
  },
  {
   "cell_type": "code",
   "execution_count": 71,
   "metadata": {},
   "outputs": [],
   "source": [
    "# create a dataframe which contains only integers with 5 rows and 5 columns\n",
    "# run the following commands\n",
    "# df.shape\n",
    "# df.info\n",
    "# df.describe\n",
    "# df.describe()\n",
    "# df.notnull()\n",
    "# df.isnull()\n",
    "# df.isnull().sum()\n",
    "# df.isnull().sum().sum()\n",
    "# df.isnull().sum().sum()/df.size\n",
    "# df.max()\n",
    "# df.min()\n",
    "# df.mean()\n",
    "# df.median()\n",
    "# df.std()\n",
    "# df.var()\n",
    "# df.corr()\n",
    "# df.cov()\n",
    "# df.count()\n",
    "# df.count(axis=1)\n",
    "# df.count(axis=0)\n",
    "# df.count(axis=1).sum()\n",
    "# df.count(axis=0).sum()\n",
    "# df.count(axis=1).sum()/df.size\n",
    "# df.count(axis=0).sum()/df.size\n",
    "# df.sum()\n",
    "\n"
   ]
  },
  {
   "cell_type": "code",
   "execution_count": null,
   "metadata": {},
   "outputs": [],
   "source": [
    "\n"
   ]
  }
 ],
 "metadata": {
  "kernelspec": {
   "display_name": "Python 3",
   "language": "python",
   "name": "python3"
  },
  "language_info": {
   "codemirror_mode": {
    "name": "ipython",
    "version": 3
   },
   "file_extension": ".py",
   "mimetype": "text/x-python",
   "name": "python",
   "nbconvert_exporter": "python",
   "pygments_lexer": "ipython3",
   "version": "3.9.10"
  },
  "orig_nbformat": 4,
  "vscode": {
   "interpreter": {
    "hash": "e31aef8222fb7c235d2ed8e74ce17e973738f89b37261e7466b7a63a6dfb1214"
   }
  }
 },
 "nbformat": 4,
 "nbformat_minor": 2
}
